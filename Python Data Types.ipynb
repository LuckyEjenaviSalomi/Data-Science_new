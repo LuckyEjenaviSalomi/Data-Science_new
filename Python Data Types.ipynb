{
  "cells": [
    {
      "cell_type": "markdown",
      "metadata": {
        "id": "view-in-github",
        "colab_type": "text"
      },
      "source": [
        "<a href=\"https://colab.research.google.com/github/LuckyEjenaviSalomi/Data-Science_new/blob/main/Python%20Data%20Types.ipynb\" target=\"_parent\"><img src=\"https://colab.research.google.com/assets/colab-badge.svg\" alt=\"Open In Colab\"/></a>"
      ]
    },
    {
      "cell_type": "markdown",
      "metadata": {
        "id": "EzRsIxXNcsSI"
      },
      "source": [
        "# **Data Types in Python**\n",
        "\n",
        "This notebook is aimed at shedding some light on the different data types in Python. This shall form a strong foundation for your programming and Data Science journey."
      ]
    },
    {
      "cell_type": "markdown",
      "metadata": {
        "id": "nORdwZbGcsSL"
      },
      "source": [
        "Data belongs to different categories. It can be numeric, text, true/false, complex numbers, date, time etc. Data should be stored correctly for us to be able to do the desired operations on the data. If the data is stored incorrectly, for example numerical data is stored as text data, we can not do numerical or arithmetic operations on the data because the methods and the operations for a data depend largely on the type of data (object) being referred to."
      ]
    },
    {
      "cell_type": "markdown",
      "metadata": {
        "id": "quToEREocsSL"
      },
      "source": [
        "There are various data types in Python. Listed below are the most prominently used ones:\n",
        "1. Numeric - This is further divided into\n",
        "    (a.) Integer\n",
        "    (b.) Float\n",
        "    (c.) Complex\n",
        "    \n",
        "2. String\n",
        "\n",
        "3. Boolean"
      ]
    },
    {
      "cell_type": "markdown",
      "metadata": {
        "id": "MJPNXm8NcsSM"
      },
      "source": [
        "## **Numeric Data Type**"
      ]
    },
    {
      "cell_type": "markdown",
      "metadata": {
        "id": "2lmti99lcsSM"
      },
      "source": [
        "As the name suggests, Numeric data type consists of numbers. These numbers can be whole numbers, decimal numbers or complex numbers.\n",
        "\n",
        "Whole numbers are stored in Integer (Int) type.\n",
        "\n",
        "Decimal numbers are stored in Float (Float64) type.\n",
        "\n",
        "Complex numbers are stored in Complex type.\n",
        "\n",
        "You will find Integer and Float type being used most of the times."
      ]
    },
    {
      "cell_type": "markdown",
      "metadata": {
        "id": "7HXtoJQIcsSM"
      },
      "source": [
        "You can check the data type of an object using the type() command."
      ]
    },
    {
      "cell_type": "code",
      "execution_count": null,
      "metadata": {
        "id": "HNflvpxWcsSN",
        "outputId": "8d378d27-9db1-4e0f-a90e-b6a574bb9d49",
        "colab": {
          "base_uri": "https://localhost:8080/"
        }
      },
      "outputs": [
        {
          "output_type": "execute_result",
          "data": {
            "text/plain": [
              "int"
            ]
          },
          "metadata": {},
          "execution_count": 1
        }
      ],
      "source": [
        "# Let's look at some examples.\n",
        "\n",
        "Integer = 7\n",
        "type(Integer)"
      ]
    },
    {
      "cell_type": "code",
      "execution_count": null,
      "metadata": {
        "id": "EPSWoGjucsSO",
        "outputId": "15638f35-0192-41a4-97d9-ac08be7c9608",
        "colab": {
          "base_uri": "https://localhost:8080/"
        }
      },
      "outputs": [
        {
          "output_type": "execute_result",
          "data": {
            "text/plain": [
              "float"
            ]
          },
          "metadata": {},
          "execution_count": 2
        }
      ],
      "source": [
        "Float = 2.356\n",
        "type(Float)"
      ]
    },
    {
      "cell_type": "code",
      "execution_count": null,
      "metadata": {
        "id": "UlFcUcbtcsSO",
        "outputId": "32df9b6b-5a25-4cec-d524-c89bda5b43df",
        "colab": {
          "base_uri": "https://localhost:8080/"
        }
      },
      "outputs": [
        {
          "output_type": "execute_result",
          "data": {
            "text/plain": [
              "complex"
            ]
          },
          "metadata": {},
          "execution_count": 3
        }
      ],
      "source": [
        "Complex = 3.908J\n",
        "type(Complex)"
      ]
    },
    {
      "cell_type": "code",
      "execution_count": null,
      "metadata": {
        "id": "wxXNeHKvcsSP"
      },
      "outputs": [],
      "source": [
        "# Your turn now.\n",
        "# Store 2, 1086M, 3.14567 into three different objects and check their data types.\n",
        "num, text, decimal = 2, \"1086M\", 3.14567\n",
        "\n"
      ]
    },
    {
      "cell_type": "code",
      "source": [
        "print(type(num), type(text), type(decimal))"
      ],
      "metadata": {
        "id": "LOdtltSHdF5X",
        "outputId": "617c0e0e-a11c-44b4-c2db-e5e085abf302",
        "colab": {
          "base_uri": "https://localhost:8080/"
        }
      },
      "execution_count": null,
      "outputs": [
        {
          "output_type": "stream",
          "name": "stdout",
          "text": [
            "<class 'int'> <class 'str'> <class 'float'>\n"
          ]
        }
      ]
    },
    {
      "cell_type": "markdown",
      "metadata": {
        "id": "GqarcgurcsSP"
      },
      "source": [
        "## **String Data Type**"
      ]
    },
    {
      "cell_type": "markdown",
      "metadata": {
        "id": "aMIuNLc3csSP"
      },
      "source": [
        "String Data type usually is used to store text. The data to be stored in this data type is enclosed between single ('') or double (\"\") quotes.\n",
        "Recall that you printed your name in the previous Notebook. That was string data type.\n",
        "Let's look at an example."
      ]
    },
    {
      "cell_type": "code",
      "execution_count": null,
      "metadata": {
        "id": "JG75gUB_csSP",
        "outputId": "f92c62ef-1239-4bc2-e41c-7c177700dc40"
      },
      "outputs": [
        {
          "data": {
            "text/plain": [
              "'My name is Jupyter!'"
            ]
          },
          "execution_count": 5,
          "metadata": {},
          "output_type": "execute_result"
        }
      ],
      "source": [
        "# Printing your name\n",
        "My_Name = \"My name is Jupyter!\"\n",
        "My_Name"
      ]
    },
    {
      "cell_type": "code",
      "execution_count": null,
      "metadata": {
        "id": "6TtJ8jn-csSP",
        "outputId": "4c440acc-5427-4e54-b7d5-03a7bc89807e"
      },
      "outputs": [
        {
          "data": {
            "text/plain": [
              "str"
            ]
          },
          "execution_count": 6,
          "metadata": {},
          "output_type": "execute_result"
        }
      ],
      "source": [
        "type(My_Name)"
      ]
    },
    {
      "cell_type": "code",
      "execution_count": 6,
      "metadata": {
        "id": "Rvs4gBNWcsSQ",
        "outputId": "05e4f695-c82e-4b05-9764-aec741cbac45",
        "colab": {
          "base_uri": "https://localhost:8080/"
        }
      },
      "outputs": [
        {
          "output_type": "execute_result",
          "data": {
            "text/plain": [
              "str"
            ]
          },
          "metadata": {},
          "execution_count": 6
        }
      ],
      "source": [
        "# Your turn to play around now.\n",
        "# Save your name to an object and check its data type.\n",
        "my_name = \"Lucky Salomi\"\n",
        "type(my_name)\n"
      ]
    },
    {
      "cell_type": "markdown",
      "metadata": {
        "id": "ZGst4UeEcsSQ"
      },
      "source": [
        "Various functions can be performed using strings like searching within a string, conversion to lowercase/uppercase, count, length, splitting, replacing, trimming, partitioning etc."
      ]
    },
    {
      "cell_type": "code",
      "execution_count": null,
      "metadata": {
        "id": "URyXFWHUcsSQ",
        "outputId": "6b228bbe-fe2a-4d84-fbe1-c9788a5b3a31"
      },
      "outputs": [
        {
          "data": {
            "text/plain": [
              "19"
            ]
          },
          "execution_count": 8,
          "metadata": {},
          "output_type": "execute_result"
        }
      ],
      "source": [
        "# Let's check how many characters does your name contain.\n",
        "len(My_Name)"
      ]
    },
    {
      "cell_type": "code",
      "execution_count": null,
      "metadata": {
        "id": "gmtPU3dfcsSQ",
        "outputId": "32cee222-1787-4c9a-a86c-ed553265dcc0"
      },
      "outputs": [
        {
          "data": {
            "text/plain": [
              "False"
            ]
          },
          "execution_count": 20,
          "metadata": {},
          "output_type": "execute_result"
        }
      ],
      "source": [
        "# Let's see if My_Name is all caps or not.\n",
        "# isupper() returns True if all the letters are capitals, False if atleast one letter in in lower case.\n",
        "\n",
        "My_Name.isupper()"
      ]
    },
    {
      "cell_type": "code",
      "execution_count": null,
      "metadata": {
        "id": "FQ3vejAccsSQ",
        "outputId": "147059b2-3c05-413c-b87a-ae83bc0032c4"
      },
      "outputs": [
        {
          "data": {
            "text/plain": [
              "'MY NAME IS JUPYTER!'"
            ]
          },
          "execution_count": 23,
          "metadata": {},
          "output_type": "execute_result"
        }
      ],
      "source": [
        "# Let's convert My_Name to all caps.\n",
        "\n",
        "My_Name = My_Name.upper()\n",
        "My_Name"
      ]
    },
    {
      "cell_type": "code",
      "execution_count": null,
      "metadata": {
        "id": "9SxaV8O3csSQ",
        "outputId": "e723d1dd-2799-4183-fd6c-e180f364a952"
      },
      "outputs": [
        {
          "data": {
            "text/plain": [
              "True"
            ]
          },
          "execution_count": 24,
          "metadata": {},
          "output_type": "execute_result"
        }
      ],
      "source": [
        "# Now the output of isupper() changes to True.\n",
        "My_Name.isupper()"
      ]
    },
    {
      "cell_type": "code",
      "execution_count": 7,
      "metadata": {
        "id": "MuA2eak4csSQ"
      },
      "outputs": [],
      "source": [
        "# Your turn to try it now.\n",
        "# Write a sentence and store it into an object.\n",
        "sentence = \"I am a good Data Scientist\"\n"
      ]
    },
    {
      "cell_type": "code",
      "execution_count": 8,
      "metadata": {
        "id": "BqdDLPWlcsSR",
        "outputId": "c9005dba-b215-4e26-a507-1e45b71ded77",
        "colab": {
          "base_uri": "https://localhost:8080/"
        }
      },
      "outputs": [
        {
          "output_type": "execute_result",
          "data": {
            "text/plain": [
              "str"
            ]
          },
          "metadata": {},
          "execution_count": 8
        }
      ],
      "source": [
        "# Check the data type of the object you just created.\n",
        "\n",
        "type(sentence)"
      ]
    },
    {
      "cell_type": "code",
      "execution_count": 9,
      "metadata": {
        "id": "MNoE2WdYcsSR",
        "outputId": "4901054b-db19-4654-ab16-4a22b70bcaa5",
        "colab": {
          "base_uri": "https://localhost:8080/"
        }
      },
      "outputs": [
        {
          "output_type": "execute_result",
          "data": {
            "text/plain": [
              "False"
            ]
          },
          "metadata": {},
          "execution_count": 9
        }
      ],
      "source": [
        "# Check if it is all caps or not.\n",
        "sentence.isupper()\n"
      ]
    },
    {
      "cell_type": "code",
      "execution_count": 10,
      "metadata": {
        "id": "iv5pvhoJcsSR",
        "outputId": "a97723f3-6e3c-47ea-e4a4-5f8b77078fa8",
        "colab": {
          "base_uri": "https://localhost:8080/"
        }
      },
      "outputs": [
        {
          "output_type": "execute_result",
          "data": {
            "text/plain": [
              "False"
            ]
          },
          "metadata": {},
          "execution_count": 10
        }
      ],
      "source": [
        "# Challenge - Check if it is all lower case or not.\n",
        "\n",
        "sentence.islower()"
      ]
    },
    {
      "cell_type": "code",
      "execution_count": 12,
      "metadata": {
        "id": "K-6qgynCcsSR",
        "outputId": "7e7a4262-bab5-4daf-eced-1d90232df47e",
        "colab": {
          "base_uri": "https://localhost:8080/",
          "height": 35
        }
      },
      "outputs": [
        {
          "output_type": "execute_result",
          "data": {
            "text/plain": [
              "'I AM A GOOD DATA SCIENTIST'"
            ],
            "application/vnd.google.colaboratory.intrinsic+json": {
              "type": "string"
            }
          },
          "metadata": {},
          "execution_count": 12
        }
      ],
      "source": [
        "# Convert your object into all caps.\n",
        "sentence_cap = sentence.upper()\n",
        "sentence_cap"
      ]
    },
    {
      "cell_type": "code",
      "execution_count": 13,
      "metadata": {
        "id": "6B38VC6TcsSR",
        "outputId": "7f1cbbf0-304b-4b79-bf6e-b5f52b80c780",
        "colab": {
          "base_uri": "https://localhost:8080/",
          "height": 35
        }
      },
      "outputs": [
        {
          "output_type": "execute_result",
          "data": {
            "text/plain": [
              "'i am a good data scientist'"
            ],
            "application/vnd.google.colaboratory.intrinsic+json": {
              "type": "string"
            }
          },
          "metadata": {},
          "execution_count": 13
        }
      ],
      "source": [
        "# Challenge - Convert your object into all lower case.\n",
        "sentence_lcase = sentence.lower()\n",
        "sentence_lcase"
      ]
    },
    {
      "cell_type": "markdown",
      "metadata": {
        "id": "uQJNwztOcsSR"
      },
      "source": [
        "## **Boolean Data Type**"
      ]
    },
    {
      "cell_type": "markdown",
      "metadata": {
        "id": "CB626ejncsSR"
      },
      "source": [
        "The boolean data type has just two values, i.e., True or False."
      ]
    },
    {
      "cell_type": "code",
      "execution_count": 15,
      "metadata": {
        "id": "fuue60wRcsSR"
      },
      "outputs": [],
      "source": [
        "# Let's look at examples.\n",
        "\n",
        "x = True\n",
        "y = False"
      ]
    },
    {
      "cell_type": "code",
      "execution_count": 16,
      "metadata": {
        "id": "TnuenRZHcsSR",
        "outputId": "83a7acde-9057-4ef5-9780-91b3c2cff060",
        "colab": {
          "base_uri": "https://localhost:8080/"
        }
      },
      "outputs": [
        {
          "output_type": "execute_result",
          "data": {
            "text/plain": [
              "bool"
            ]
          },
          "metadata": {},
          "execution_count": 16
        }
      ],
      "source": [
        "type(x)"
      ]
    },
    {
      "cell_type": "code",
      "execution_count": 17,
      "metadata": {
        "id": "LT33U1D2csSR",
        "outputId": "e4a899bd-fe95-4e86-f60a-bb5021d36c27",
        "colab": {
          "base_uri": "https://localhost:8080/"
        }
      },
      "outputs": [
        {
          "output_type": "execute_result",
          "data": {
            "text/plain": [
              "bool"
            ]
          },
          "metadata": {},
          "execution_count": 17
        }
      ],
      "source": [
        "type(y)"
      ]
    },
    {
      "cell_type": "code",
      "execution_count": 18,
      "metadata": {
        "id": "hdvPwfUwcsSR",
        "outputId": "30a4040c-7bff-481d-a883-d03b9bd11284",
        "colab": {
          "base_uri": "https://localhost:8080/"
        }
      },
      "outputs": [
        {
          "output_type": "stream",
          "name": "stdout",
          "text": [
            "<class 'bool'> <class 'bool'>\n"
          ]
        }
      ],
      "source": [
        "# Your turn!\n",
        "print(type(x), type(y))"
      ]
    },
    {
      "cell_type": "markdown",
      "metadata": {
        "id": "ZzIpNiUrcsSR"
      },
      "source": [
        "## **Data Type Conversions**"
      ]
    },
    {
      "cell_type": "markdown",
      "metadata": {
        "id": "lF-OGn6dcsSR"
      },
      "source": [
        "As explained earlier, data should be stored in correct form so that it can be manipulated efficiently later.\n",
        "Quite a lot of times, data is not stored correctly or it gets imported incorrectly.\n",
        "In such cases, data needs to be converted to its correct type so that it can be optimally used in our analysis.\n",
        "Thus, let's look at data type conversion exercises to get you comfortable with the process."
      ]
    },
    {
      "cell_type": "code",
      "execution_count": null,
      "metadata": {
        "id": "46EzMV3XcsSS"
      },
      "outputs": [],
      "source": [
        "# Consider an object containing an integer.\n",
        "string1 = 1"
      ]
    },
    {
      "cell_type": "code",
      "execution_count": null,
      "metadata": {
        "id": "gPcfI2pmcsSS",
        "outputId": "cdfdb87e-8d4b-41b2-a011-a3a005ce2201"
      },
      "outputs": [
        {
          "data": {
            "text/plain": [
              "int"
            ]
          },
          "execution_count": 38,
          "metadata": {},
          "output_type": "execute_result"
        }
      ],
      "source": [
        "type(string1)"
      ]
    },
    {
      "cell_type": "code",
      "execution_count": null,
      "metadata": {
        "id": "QoJ6eZkdcsSS"
      },
      "outputs": [],
      "source": [
        "# I want to use the value 1 as a text value. So let's convert it.\n",
        "string1 = str(string1)"
      ]
    },
    {
      "cell_type": "code",
      "execution_count": null,
      "metadata": {
        "id": "eyR16u6scsSS",
        "outputId": "2c7ef890-fecc-44d9-dd47-60023f2e4290"
      },
      "outputs": [
        {
          "data": {
            "text/plain": [
              "str"
            ]
          },
          "execution_count": 45,
          "metadata": {},
          "output_type": "execute_result"
        }
      ],
      "source": [
        "type(string1)"
      ]
    },
    {
      "cell_type": "code",
      "execution_count": 19,
      "metadata": {
        "id": "s278YsXjcsSS",
        "outputId": "e91037eb-5767-4e93-af7e-fae14bd000e5",
        "colab": {
          "base_uri": "https://localhost:8080/"
        }
      },
      "outputs": [
        {
          "output_type": "execute_result",
          "data": {
            "text/plain": [
              "str"
            ]
          },
          "metadata": {},
          "execution_count": 19
        }
      ],
      "source": [
        "# Exercise for you. Store the number 123456 as string.\n",
        "string = str(123456)\n",
        "type(string)"
      ]
    },
    {
      "cell_type": "code",
      "execution_count": null,
      "metadata": {
        "id": "W13-WVmncsSX"
      },
      "outputs": [],
      "source": [
        "# Let's do the opposite now. Let's learn to convert string to float now."
      ]
    },
    {
      "cell_type": "code",
      "execution_count": 20,
      "metadata": {
        "id": "BIl4alVEcsSX",
        "outputId": "7d056da8-adc0-4e37-8934-3641acd8ec3f",
        "colab": {
          "base_uri": "https://localhost:8080/"
        }
      },
      "outputs": [
        {
          "output_type": "execute_result",
          "data": {
            "text/plain": [
              "str"
            ]
          },
          "metadata": {},
          "execution_count": 20
        }
      ],
      "source": [
        "int1 = \"500\"\n",
        "type(int1)"
      ]
    },
    {
      "cell_type": "code",
      "execution_count": 21,
      "metadata": {
        "id": "u4a2e5jicsSX",
        "outputId": "590da6e4-68cd-460c-fe36-ea70324dc92d",
        "colab": {
          "base_uri": "https://localhost:8080/"
        }
      },
      "outputs": [
        {
          "output_type": "execute_result",
          "data": {
            "text/plain": [
              "int"
            ]
          },
          "metadata": {},
          "execution_count": 21
        }
      ],
      "source": [
        "int1 = int(int1)\n",
        "type(int1)"
      ]
    },
    {
      "cell_type": "code",
      "execution_count": 23,
      "metadata": {
        "id": "_Lm4sRgKcsSX",
        "outputId": "2dab5300-d1de-41d8-8e5b-91119d68abfc",
        "colab": {
          "base_uri": "https://localhost:8080/"
        }
      },
      "outputs": [
        {
          "output_type": "execute_result",
          "data": {
            "text/plain": [
              "int"
            ]
          },
          "metadata": {},
          "execution_count": 23
        }
      ],
      "source": [
        "# Your turn now.\n",
        "int2 = int(int1)\n",
        "type(int2)"
      ]
    },
    {
      "cell_type": "markdown",
      "metadata": {
        "id": "f__hDyZ1csSX"
      },
      "source": [
        "Good job so far!\n",
        "You can also try converting strings to boolean and vice versa.\n",
        "You could also try conversions from integers to float and float to integer.\n",
        "\n",
        "Python is an intuitive language, so by default it stores data into correct formats.\n",
        "But very often we come across data being stored incorrectly especially while importing."
      ]
    }
  ],
  "metadata": {
    "kernelspec": {
      "display_name": "Python 3 (ipykernel)",
      "language": "python",
      "name": "python3"
    },
    "language_info": {
      "codemirror_mode": {
        "name": "ipython",
        "version": 3
      },
      "file_extension": ".py",
      "mimetype": "text/x-python",
      "name": "python",
      "nbconvert_exporter": "python",
      "pygments_lexer": "ipython3",
      "version": "3.9.7"
    },
    "colab": {
      "provenance": [],
      "include_colab_link": true
    }
  },
  "nbformat": 4,
  "nbformat_minor": 0
}