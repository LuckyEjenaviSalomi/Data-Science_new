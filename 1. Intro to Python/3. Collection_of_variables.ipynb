{
  "cells": [
    {
      "cell_type": "markdown",
      "metadata": {
        "id": "view-in-github",
        "colab_type": "text"
      },
      "source": [
        "<a href=\"https://colab.research.google.com/github/LuckyEjenaviSalomi/Data-Science_new/blob/main/1.%20Intro%20to%20Python/3.%20Collection_of_variables.ipynb\" target=\"_parent\"><img src=\"https://colab.research.google.com/assets/colab-badge.svg\" alt=\"Open In Colab\"/></a>"
      ]
    },
    {
      "cell_type": "markdown",
      "metadata": {
        "id": "3Sy7P3RNY8Fg"
      },
      "source": [
        "# **COLLECTION OF VARIABLES**"
      ]
    },
    {
      "cell_type": "markdown",
      "metadata": {
        "id": "2hJEThMuY8F1"
      },
      "source": [
        "### 1. Create a list of repeated element (element 2, 48 times)"
      ]
    },
    {
      "cell_type": "code",
      "execution_count": 2,
      "metadata": {
        "id": "UtObqllqY8F4",
        "outputId": "300e333d-fe78-424c-abf9-0c6a692a79e5",
        "colab": {
          "base_uri": "https://localhost:8080/"
        }
      },
      "outputs": [
        {
          "output_type": "stream",
          "name": "stdout",
          "text": [
            "[2, 2, 2, 2, 2, 2, 2, 2, 2, 2, 2, 2, 2, 2, 2, 2, 2, 2, 2, 2, 2, 2, 2, 2, 2, 2, 2, 2, 2, 2, 2, 2, 2, 2, 2, 2, 2, 2, 2, 2, 2, 2, 2, 2, 2, 2, 2, 2]\n"
          ]
        }
      ],
      "source": [
        "print([2] * 48)"
      ]
    },
    {
      "cell_type": "markdown",
      "metadata": {
        "id": "iYGt1ARuY8F5"
      },
      "source": [
        "### 2. Print the second element of the list\n",
        "\n",
        "list = [\"apple\",\"orange\",\"grapes\",\"watermelon\"]"
      ]
    },
    {
      "cell_type": "code",
      "execution_count": 4,
      "metadata": {
        "id": "PArgtC9eY8F9"
      },
      "outputs": [],
      "source": [
        "list = [\"apple\",\"orange\",\"grapes\",\"watermelon\"]"
      ]
    },
    {
      "cell_type": "code",
      "source": [
        "list[1]"
      ],
      "metadata": {
        "id": "PRf1N1_vZaaw",
        "outputId": "50e15cf1-2c20-41f7-9d41-cf4f03e5dd74",
        "colab": {
          "base_uri": "https://localhost:8080/",
          "height": 35
        }
      },
      "execution_count": 5,
      "outputs": [
        {
          "output_type": "execute_result",
          "data": {
            "text/plain": [
              "'orange'"
            ],
            "application/vnd.google.colaboratory.intrinsic+json": {
              "type": "string"
            }
          },
          "metadata": {},
          "execution_count": 5
        }
      ]
    },
    {
      "cell_type": "markdown",
      "metadata": {
        "id": "tHWhwic3Y8F-"
      },
      "source": [
        "### 3.  Replace the second element of the list with \"strawberries\"\n",
        "list = [\"apple\",\"orange\",\"grapes\",\"watermelon\"]"
      ]
    },
    {
      "cell_type": "code",
      "execution_count": 8,
      "metadata": {
        "id": "59dX2t-rY8GA",
        "outputId": "97eb3498-49d9-4b04-9c6b-fc89992bc066",
        "colab": {
          "base_uri": "https://localhost:8080/"
        }
      },
      "outputs": [
        {
          "output_type": "execute_result",
          "data": {
            "text/plain": [
              "['apple', 'orange', 'grapes', 'watermelon']"
            ]
          },
          "metadata": {},
          "execution_count": 8
        }
      ],
      "source": [
        "list = [\"apple\",\"orange\",\"grapes\",\"watermelon\"]\n",
        "list"
      ]
    },
    {
      "cell_type": "code",
      "source": [
        "list[1] = \"strawberries\"\n",
        "list"
      ],
      "metadata": {
        "id": "me2zEbOCZpco",
        "outputId": "92ddf442-fff3-4c50-e604-1516f7b716bb",
        "colab": {
          "base_uri": "https://localhost:8080/"
        }
      },
      "execution_count": 9,
      "outputs": [
        {
          "output_type": "execute_result",
          "data": {
            "text/plain": [
              "['apple', 'strawberries', 'grapes', 'watermelon']"
            ]
          },
          "metadata": {},
          "execution_count": 9
        }
      ]
    },
    {
      "cell_type": "markdown",
      "metadata": {
        "id": "icmnImPfY8GB"
      },
      "source": [
        "### 4. Iterate through the list and print the values"
      ]
    },
    {
      "cell_type": "code",
      "execution_count": 11,
      "metadata": {
        "id": "CdGYPcu5Y8GD",
        "outputId": "f1759ec1-58ed-4f42-8ef1-a476ccef1dac",
        "colab": {
          "base_uri": "https://localhost:8080/"
        }
      },
      "outputs": [
        {
          "output_type": "stream",
          "name": "stdout",
          "text": [
            "apple\n",
            "strawberries\n",
            "grapes\n",
            "watermelon\n"
          ]
        }
      ],
      "source": [
        "for fruit in list:\n",
        "  print(fruit)"
      ]
    },
    {
      "cell_type": "markdown",
      "metadata": {
        "id": "SQJ8MMvtY8GE"
      },
      "source": [
        "### 5. Write a Python code to print squares of all numbers present in a list = [1, 12, 24, 36, 11, 20,50]"
      ]
    },
    {
      "cell_type": "code",
      "execution_count": 12,
      "metadata": {
        "id": "T7r99vBgY8GF",
        "outputId": "0fbb063d-0177-44b6-af3a-4b2a8eab92eb",
        "colab": {
          "base_uri": "https://localhost:8080/"
        }
      },
      "outputs": [
        {
          "output_type": "stream",
          "name": "stdout",
          "text": [
            "1\n",
            "144\n",
            "576\n",
            "1296\n",
            "121\n",
            "400\n",
            "2500\n"
          ]
        }
      ],
      "source": [
        "numbers = [1, 12, 24, 36, 11, 20, 50]\n",
        "for number in numbers:\n",
        "  print(number ** 2)"
      ]
    },
    {
      "cell_type": "markdown",
      "metadata": {
        "id": "y2_CkOSuY8GF"
      },
      "source": [
        "### 6. Pop yellow color from the list below:\n",
        "List=['white','red', 'blue', 'green','blue','yellow', 'black']"
      ]
    },
    {
      "cell_type": "code",
      "execution_count": 17,
      "metadata": {
        "id": "Fo_SW6hFY8GG"
      },
      "outputs": [],
      "source": [
        "List=['white','red', 'blue', 'green','blue','yellow', 'black']\n",
        "item = 'yellow'\n",
        "pos = List.index(item)"
      ]
    },
    {
      "cell_type": "code",
      "source": [
        "List.pop(pos)"
      ],
      "metadata": {
        "id": "2S_AiqakaoRF",
        "outputId": "a04bed95-e896-40f7-eb1e-0e1237a8b52b",
        "colab": {
          "base_uri": "https://localhost:8080/",
          "height": 35
        }
      },
      "execution_count": 18,
      "outputs": [
        {
          "output_type": "execute_result",
          "data": {
            "text/plain": [
              "'yellow'"
            ],
            "application/vnd.google.colaboratory.intrinsic+json": {
              "type": "string"
            }
          },
          "metadata": {},
          "execution_count": 18
        }
      ]
    },
    {
      "cell_type": "code",
      "source": [
        "List"
      ],
      "metadata": {
        "id": "iwfVaCf4asaf",
        "outputId": "1abd997d-f9ca-458f-dd91-542dcaaacd38",
        "colab": {
          "base_uri": "https://localhost:8080/"
        }
      },
      "execution_count": 19,
      "outputs": [
        {
          "output_type": "execute_result",
          "data": {
            "text/plain": [
              "['white', 'red', 'blue', 'green', 'blue', 'black']"
            ]
          },
          "metadata": {},
          "execution_count": 19
        }
      ]
    },
    {
      "cell_type": "markdown",
      "metadata": {
        "id": "Fd6s9Q6AY8GH"
      },
      "source": [
        "### 7. Check length of list\n",
        "\n",
        "list=[\"a\",\"b\",\"c\",\"d\",\"e\"]"
      ]
    },
    {
      "cell_type": "code",
      "execution_count": 20,
      "metadata": {
        "id": "JxoO--X8Y8GH",
        "outputId": "c9f13b3a-62a2-455f-e26f-b12e3d1f0aff",
        "colab": {
          "base_uri": "https://localhost:8080/"
        }
      },
      "outputs": [
        {
          "output_type": "execute_result",
          "data": {
            "text/plain": [
              "5"
            ]
          },
          "metadata": {},
          "execution_count": 20
        }
      ],
      "source": [
        "list=[\"a\",\"b\",\"c\",\"d\",\"e\"]\n",
        "len(list)"
      ]
    },
    {
      "cell_type": "markdown",
      "metadata": {
        "id": "yX76WyAfY8GI"
      },
      "source": [
        "###  8. Create a dictionary with the following information:\n",
        "\n",
        "brand = Audi\n",
        "\n",
        "Model = Q2\n",
        "\n",
        "Year = 1980"
      ]
    },
    {
      "cell_type": "code",
      "execution_count": 22,
      "metadata": {
        "id": "MmJWqcovY8GJ",
        "outputId": "72420612-24fb-4e2b-c6d4-46c77e408d8f",
        "colab": {
          "base_uri": "https://localhost:8080/"
        }
      },
      "outputs": [
        {
          "output_type": "execute_result",
          "data": {
            "text/plain": [
              "{'brand': 'Audit', 'Model': 'Q2', 'Year': 1980}"
            ]
          },
          "metadata": {},
          "execution_count": 22
        }
      ],
      "source": [
        "car = {\n",
        "    'brand': 'Audit',\n",
        "    'Model': 'Q2',\n",
        "    'Year': 1980\n",
        "}\n",
        "car"
      ]
    },
    {
      "cell_type": "markdown",
      "metadata": {
        "id": "EAQ__SczY8GJ"
      },
      "source": [
        "### 9. In the above dictionary change the year to 2019"
      ]
    },
    {
      "cell_type": "code",
      "execution_count": 23,
      "metadata": {
        "id": "VT41nKfyY8GJ",
        "outputId": "64deb9af-5d89-41e6-b33f-c4b35d48e52e",
        "colab": {
          "base_uri": "https://localhost:8080/"
        }
      },
      "outputs": [
        {
          "output_type": "execute_result",
          "data": {
            "text/plain": [
              "{'brand': 'Audit', 'Model': 'Q2', 'Year': 2019}"
            ]
          },
          "metadata": {},
          "execution_count": 23
        }
      ],
      "source": [
        "car['Year'] = 2019\n",
        "car"
      ]
    },
    {
      "cell_type": "markdown",
      "metadata": {
        "id": "uOXzPmghY8GL"
      },
      "source": [
        "### 10. Create a set of following elements\n",
        "\n",
        "1.0, \"Hello\", 55 , (6,7,8)"
      ]
    },
    {
      "cell_type": "code",
      "execution_count": 24,
      "metadata": {
        "id": "G9aJySwTY8GL",
        "outputId": "cb78426d-dfca-401b-a710-6523e0bf60c0",
        "colab": {
          "base_uri": "https://localhost:8080/"
        }
      },
      "outputs": [
        {
          "output_type": "execute_result",
          "data": {
            "text/plain": [
              "('Hello', 55, (6, 7, 8))"
            ]
          },
          "metadata": {},
          "execution_count": 24
        }
      ],
      "source": [
        "item_set = ('Hello', 55, (6, 7, 8))\n",
        "item_set"
      ]
    }
  ],
  "metadata": {
    "kernelspec": {
      "display_name": "Python 3 (ipykernel)",
      "language": "python",
      "name": "python3"
    },
    "language_info": {
      "codemirror_mode": {
        "name": "ipython",
        "version": 3
      },
      "file_extension": ".py",
      "mimetype": "text/x-python",
      "name": "python",
      "nbconvert_exporter": "python",
      "pygments_lexer": "ipython3",
      "version": "3.9.7"
    },
    "colab": {
      "provenance": [],
      "include_colab_link": true
    }
  },
  "nbformat": 4,
  "nbformat_minor": 0
}