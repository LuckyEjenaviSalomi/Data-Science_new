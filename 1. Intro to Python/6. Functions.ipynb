{
  "cells": [
    {
      "cell_type": "markdown",
      "metadata": {
        "id": "view-in-github",
        "colab_type": "text"
      },
      "source": [
        "<a href=\"https://colab.research.google.com/github/LuckyEjenaviSalomi/Data-Science_new/blob/main/1.%20Intro%20to%20Python/6.%20Functions.ipynb\" target=\"_parent\"><img src=\"https://colab.research.google.com/assets/colab-badge.svg\" alt=\"Open In Colab\"/></a>"
      ]
    },
    {
      "cell_type": "markdown",
      "metadata": {
        "id": "gUyXAn-FZDHh"
      },
      "source": [
        "# **USER DEFINED FUNCTION AND LAMBDA FUNCTIONS EXERCISE**"
      ]
    },
    {
      "cell_type": "markdown",
      "metadata": {
        "id": "6lxXGxAgZDHo"
      },
      "source": [
        "### 1. Write a function to add, subtract, multiply and divide two variables passed to it and print the result"
      ]
    },
    {
      "cell_type": "code",
      "execution_count": 4,
      "metadata": {
        "id": "cp6W-263ZDHq"
      },
      "outputs": [],
      "source": [
        "def two_numbers(num1, num2):\n",
        "  operations = ['add', 'subtract', 'multiply', 'divide']\n",
        "  return dict(zip(operations, [num1 + num2, num1 - num2, num1 * num2, num1 / num2]))"
      ]
    },
    {
      "cell_type": "code",
      "source": [
        "# test function\n",
        "two_numbers(4, 2)"
      ],
      "metadata": {
        "id": "dLbdw6QQwqZI",
        "outputId": "ae2c79b8-5053-49d9-aa0e-1b1f86d21406",
        "colab": {
          "base_uri": "https://localhost:8080/"
        }
      },
      "execution_count": 6,
      "outputs": [
        {
          "output_type": "execute_result",
          "data": {
            "text/plain": [
              "{'add': 6, 'subtract': 2, 'multiply': 8, 'divide': 2.0}"
            ]
          },
          "metadata": {},
          "execution_count": 6
        }
      ]
    },
    {
      "cell_type": "markdown",
      "metadata": {
        "id": "8VU8dSx4ZDHs"
      },
      "source": [
        "### 2. Write a Python function given range (1,10) both included, that gives the square of every number"
      ]
    },
    {
      "cell_type": "code",
      "execution_count": 9,
      "metadata": {
        "id": "sNI1ZV8jZDHu"
      },
      "outputs": [],
      "source": [
        "def get_square_range(lower_band: int, upper_band: int):\n",
        "  return [num ** 2 for num in range(lower_band, upper_band + 1)]"
      ]
    },
    {
      "cell_type": "code",
      "source": [
        "# test function\n",
        "get_square_range(1, 10)"
      ],
      "metadata": {
        "id": "CsUo9Llwxtbj",
        "outputId": "e9a9ddce-7873-49ce-88ee-00e9d55560c4",
        "colab": {
          "base_uri": "https://localhost:8080/"
        }
      },
      "execution_count": 11,
      "outputs": [
        {
          "output_type": "execute_result",
          "data": {
            "text/plain": [
              "[1, 4, 9, 16, 25, 36, 49, 64, 81, 100]"
            ]
          },
          "metadata": {},
          "execution_count": 11
        }
      ]
    },
    {
      "cell_type": "markdown",
      "metadata": {
        "id": "BbDfKXQCZDHv"
      },
      "source": [
        "### 3. Write a function to calculate simple interest\n",
        "\n",
        "simple interest = (Principal amount * Annual Rate of interest * Time(in years))/100\n",
        "\n",
        "Take values as follows\n",
        "\n",
        "Principal Amount = 1000\n",
        "\n",
        "Rate of interest = 3%\n",
        "\n",
        "Time = 5 years"
      ]
    },
    {
      "cell_type": "code",
      "execution_count": 13,
      "metadata": {
        "id": "JB_5AABeZDHy"
      },
      "outputs": [],
      "source": [
        "def get_simple_int(principal: float, annual_rate: float, num_years: float)-> float:\n",
        "  return (principal * annual_rate * num_years)/100"
      ]
    },
    {
      "cell_type": "code",
      "source": [
        "# test function\n",
        "p = 1000\n",
        "r = 3\n",
        "time = 5\n",
        "get_simple_int(p, 3, 5)"
      ],
      "metadata": {
        "id": "7jQ48T3hyXOj",
        "outputId": "98720c70-e405-495b-ef48-e070ab2c623d",
        "colab": {
          "base_uri": "https://localhost:8080/"
        }
      },
      "execution_count": 14,
      "outputs": [
        {
          "output_type": "execute_result",
          "data": {
            "text/plain": [
              "150.0"
            ]
          },
          "metadata": {},
          "execution_count": 14
        }
      ]
    },
    {
      "cell_type": "markdown",
      "metadata": {
        "id": "COdtG3BuZDH0"
      },
      "source": [
        "### 4. Write a function to check the number is divisible by 25. The function should return True if divisible and \"Not divisible\" if not"
      ]
    },
    {
      "cell_type": "code",
      "execution_count": 15,
      "metadata": {
        "id": "O31yKzxxZDH4"
      },
      "outputs": [],
      "source": [
        "def is_divible_by_25(num: float):\n",
        "  return True if num % 25 == 0 else 'Not divisible'"
      ]
    },
    {
      "cell_type": "code",
      "source": [
        "# test function\n",
        "num = 50\n",
        "is_divible_by_25(num)"
      ],
      "metadata": {
        "id": "MjNlb1D-y1Gb",
        "outputId": "07f02445-4151-44b1-c180-9c2ae5ef7767",
        "colab": {
          "base_uri": "https://localhost:8080/"
        }
      },
      "execution_count": 18,
      "outputs": [
        {
          "output_type": "execute_result",
          "data": {
            "text/plain": [
              "True"
            ]
          },
          "metadata": {},
          "execution_count": 18
        }
      ]
    },
    {
      "cell_type": "code",
      "source": [
        "num = 51\n",
        "is_divible_by_25(num)"
      ],
      "metadata": {
        "id": "YWtAL3Yuy8xv",
        "outputId": "f1ea515d-668f-45f7-9a3b-a96d297c4997",
        "colab": {
          "base_uri": "https://localhost:8080/",
          "height": 35
        }
      },
      "execution_count": 19,
      "outputs": [
        {
          "output_type": "execute_result",
          "data": {
            "text/plain": [
              "'Not divisible'"
            ],
            "application/vnd.google.colaboratory.intrinsic+json": {
              "type": "string"
            }
          },
          "metadata": {},
          "execution_count": 19
        }
      ]
    },
    {
      "cell_type": "markdown",
      "metadata": {
        "id": "wlTRZerYZDH6"
      },
      "source": [
        "### 5. Define a function that takes an input, squares it, adds 5, then returns the answer"
      ]
    },
    {
      "cell_type": "code",
      "execution_count": 20,
      "metadata": {
        "id": "yXAbb7LFZDH8"
      },
      "outputs": [],
      "source": [
        "def get_result(num):\n",
        "  return num ** 2 + 5"
      ]
    },
    {
      "cell_type": "code",
      "source": [
        "# test function\n",
        "get_result(3)"
      ],
      "metadata": {
        "id": "slm9iy_VzLLT",
        "outputId": "73e0045f-7a5c-4eea-d83e-269efc34dc56",
        "colab": {
          "base_uri": "https://localhost:8080/"
        }
      },
      "execution_count": 21,
      "outputs": [
        {
          "output_type": "execute_result",
          "data": {
            "text/plain": [
              "14"
            ]
          },
          "metadata": {},
          "execution_count": 21
        }
      ]
    },
    {
      "cell_type": "markdown",
      "metadata": {
        "id": "zZjvggXxZDH8"
      },
      "source": [
        "### 6. Using lambda function perform the following task : take an input, squares it, add 5, then return the answer"
      ]
    },
    {
      "cell_type": "code",
      "execution_count": 27,
      "metadata": {
        "id": "iQ9zL7rUZDH-"
      },
      "outputs": [],
      "source": [
        "x = lambda x: x ** 2 + 5"
      ]
    },
    {
      "cell_type": "code",
      "source": [
        "# test lambda function\n",
        "x(3)"
      ],
      "metadata": {
        "id": "ZMGZDRcbzbiq",
        "outputId": "1b2983e7-9018-4047-d433-f71d2f610761",
        "colab": {
          "base_uri": "https://localhost:8080/"
        }
      },
      "execution_count": 29,
      "outputs": [
        {
          "output_type": "execute_result",
          "data": {
            "text/plain": [
              "14"
            ]
          },
          "metadata": {},
          "execution_count": 29
        }
      ]
    },
    {
      "cell_type": "markdown",
      "metadata": {
        "id": "jcFqPne5ZDIB"
      },
      "source": [
        "### 7. Write a function to calculate the power of a number raised to other ($a^b$)"
      ]
    },
    {
      "cell_type": "code",
      "execution_count": 36,
      "metadata": {
        "id": "3ceadZ5RZDID"
      },
      "outputs": [],
      "source": [
        "def number_raised(a, b):\n",
        "  return a ** b"
      ]
    },
    {
      "cell_type": "code",
      "source": [
        "# test function\n",
        "number_raised(2, 3)"
      ],
      "metadata": {
        "id": "mePodhzb0r20",
        "outputId": "eea0c998-a095-4170-af07-a40244e9fe09",
        "colab": {
          "base_uri": "https://localhost:8080/"
        }
      },
      "execution_count": 37,
      "outputs": [
        {
          "output_type": "execute_result",
          "data": {
            "text/plain": [
              "8"
            ]
          },
          "metadata": {},
          "execution_count": 37
        }
      ]
    },
    {
      "cell_type": "markdown",
      "metadata": {
        "id": "EJPzhseSZDIF"
      },
      "source": [
        "### 8. Write a function to calculate the area of a triangle\n",
        "\n",
        "area of triangle = 1/2 * base * height"
      ]
    },
    {
      "cell_type": "code",
      "execution_count": 38,
      "metadata": {
        "id": "iIrqv0GjZDIJ"
      },
      "outputs": [],
      "source": [
        "def area_triangle(base, height):\n",
        "  return (1/2) * base * height"
      ]
    },
    {
      "cell_type": "code",
      "source": [
        "area_triangle(10, 5)"
      ],
      "metadata": {
        "id": "_25eIXqa1Mui",
        "outputId": "e058862a-66e2-4b86-ac25-b254b3a5d929",
        "colab": {
          "base_uri": "https://localhost:8080/"
        }
      },
      "execution_count": 39,
      "outputs": [
        {
          "output_type": "execute_result",
          "data": {
            "text/plain": [
              "25.0"
            ]
          },
          "metadata": {},
          "execution_count": 39
        }
      ]
    },
    {
      "cell_type": "markdown",
      "metadata": {
        "id": "5FQo8ZicZDIK"
      },
      "source": [
        "### 9. Create a function that takes country as the input and returns \"I am from *Country* \""
      ]
    },
    {
      "cell_type": "code",
      "execution_count": 40,
      "metadata": {
        "id": "oQjY_JHbZDIM"
      },
      "outputs": [],
      "source": [
        "def get_country(country: str)->str:\n",
        "  return f'I am from {country.capitalize()}'"
      ]
    },
    {
      "cell_type": "code",
      "source": [
        "# test function\n",
        "get_country(\"nigeria\")"
      ],
      "metadata": {
        "id": "RIU5c4MM1h2y",
        "outputId": "7fd273ee-d65d-4fa1-f0cb-32ea0de44009",
        "colab": {
          "base_uri": "https://localhost:8080/",
          "height": 35
        }
      },
      "execution_count": 43,
      "outputs": [
        {
          "output_type": "execute_result",
          "data": {
            "text/plain": [
              "'I am from Nigeria'"
            ],
            "application/vnd.google.colaboratory.intrinsic+json": {
              "type": "string"
            }
          },
          "metadata": {},
          "execution_count": 43
        }
      ]
    },
    {
      "cell_type": "markdown",
      "metadata": {
        "id": "smScOck2ZDIP"
      },
      "source": [
        "### 10. Write a function to convert degree Celsius temperature to Fahrenheit"
      ]
    },
    {
      "cell_type": "code",
      "execution_count": 44,
      "metadata": {
        "id": "DFBf5HahZDIQ"
      },
      "outputs": [],
      "source": [
        "def celsius_to_fahrenheit(c):\n",
        "  return c * (9/5) + 32"
      ]
    },
    {
      "cell_type": "code",
      "source": [
        "# test function\n",
        "celsius_to_fahrenheit(32)"
      ],
      "metadata": {
        "id": "oWnx2gCf19nm",
        "outputId": "1e2614b9-5324-426c-9a90-7a3f54de1a9a",
        "colab": {
          "base_uri": "https://localhost:8080/"
        }
      },
      "execution_count": 45,
      "outputs": [
        {
          "output_type": "execute_result",
          "data": {
            "text/plain": [
              "89.6"
            ]
          },
          "metadata": {},
          "execution_count": 45
        }
      ]
    }
  ],
  "metadata": {
    "kernelspec": {
      "display_name": "Python 3 (ipykernel)",
      "language": "python",
      "name": "python3"
    },
    "language_info": {
      "codemirror_mode": {
        "name": "ipython",
        "version": 3
      },
      "file_extension": ".py",
      "mimetype": "text/x-python",
      "name": "python",
      "nbconvert_exporter": "python",
      "pygments_lexer": "ipython3",
      "version": "3.9.7"
    },
    "colab": {
      "provenance": [],
      "include_colab_link": true
    }
  },
  "nbformat": 4,
  "nbformat_minor": 0
}