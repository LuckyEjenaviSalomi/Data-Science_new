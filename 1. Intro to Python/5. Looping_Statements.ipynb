{
  "cells": [
    {
      "cell_type": "markdown",
      "metadata": {
        "id": "view-in-github",
        "colab_type": "text"
      },
      "source": [
        "<a href=\"https://colab.research.google.com/github/LuckyEjenaviSalomi/Data-Science_new/blob/main/1.%20Intro%20to%20Python/5.%20Looping_Statements.ipynb\" target=\"_parent\"><img src=\"https://colab.research.google.com/assets/colab-badge.svg\" alt=\"Open In Colab\"/></a>"
      ]
    },
    {
      "cell_type": "markdown",
      "metadata": {
        "id": "YflnWCxLZBKp"
      },
      "source": [
        "# **LOOPING STATEMENTS EXERCISE**"
      ]
    },
    {
      "cell_type": "markdown",
      "metadata": {
        "id": "t2kdXF_DZBKx"
      },
      "source": [
        "### 1. Print -10 to -1 using for loop"
      ]
    },
    {
      "cell_type": "code",
      "execution_count": 10,
      "metadata": {
        "id": "uQLMw_BFZBK0",
        "outputId": "beb3a39c-49f4-4625-9a87-f13245a88cfb",
        "colab": {
          "base_uri": "https://localhost:8080/"
        }
      },
      "outputs": [
        {
          "output_type": "stream",
          "name": "stdout",
          "text": [
            "-10\n",
            "-9\n",
            "-8\n",
            "-7\n",
            "-6\n",
            "-5\n",
            "-4\n",
            "-3\n",
            "-2\n",
            "-1\n"
          ]
        }
      ],
      "source": [
        "for i in range(-10, 0):\n",
        "  print(i)"
      ]
    },
    {
      "cell_type": "markdown",
      "metadata": {
        "id": "0oydlWI-ZBK1"
      },
      "source": [
        "### 2. Using while loop print numbers 1 to 10"
      ]
    },
    {
      "cell_type": "code",
      "execution_count": 11,
      "metadata": {
        "id": "hT19T-A_ZBK3",
        "outputId": "36afdf8e-b752-4352-8217-c7da0273c7ff",
        "colab": {
          "base_uri": "https://localhost:8080/"
        }
      },
      "outputs": [
        {
          "output_type": "stream",
          "name": "stdout",
          "text": [
            "1\n",
            "2\n",
            "3\n",
            "4\n",
            "5\n",
            "6\n",
            "7\n",
            "8\n",
            "9\n",
            "10\n"
          ]
        }
      ],
      "source": [
        "num = 1\n",
        "while num <= 10:\n",
        "  print(num)\n",
        "  num += 1"
      ]
    },
    {
      "cell_type": "markdown",
      "metadata": {
        "id": "0OxNi-_MZBK3"
      },
      "source": [
        "### 3. Using for loop print first ten even numbers"
      ]
    },
    {
      "cell_type": "code",
      "execution_count": 12,
      "metadata": {
        "id": "TfX2cFW-ZBK5",
        "outputId": "342b1337-1d57-4cc5-8039-7e978e5c458c",
        "colab": {
          "base_uri": "https://localhost:8080/"
        }
      },
      "outputs": [
        {
          "output_type": "stream",
          "name": "stdout",
          "text": [
            "0\n",
            "2\n",
            "4\n",
            "6\n",
            "8\n",
            "10\n",
            "12\n",
            "14\n",
            "16\n",
            "18\n"
          ]
        }
      ],
      "source": [
        "num = 0\n",
        "for i in range(10):\n",
        "  print(num)\n",
        "  num += 2"
      ]
    },
    {
      "cell_type": "markdown",
      "metadata": {
        "id": "vtCQMda1ZBK7"
      },
      "source": [
        "### 4. Using while loop generate the table of 5"
      ]
    },
    {
      "cell_type": "code",
      "execution_count": 23,
      "metadata": {
        "id": "BfLD4MelZBK9",
        "outputId": "2710c0d3-3cd2-43aa-cbee-a80e4c02e391",
        "colab": {
          "base_uri": "https://localhost:8080/"
        }
      },
      "outputs": [
        {
          "output_type": "stream",
          "name": "stdout",
          "text": [
            "5 x  1 =   5\n",
            "5 x  2 =  10\n",
            "5 x  3 =  15\n",
            "5 x  4 =  20\n",
            "5 x  5 =  25\n",
            "5 x  6 =  30\n",
            "5 x  7 =  35\n",
            "5 x  8 =  40\n",
            "5 x  9 =  45\n",
            "5 x 10 =  50\n",
            "5 x 11 =  55\n",
            "5 x 12 =  60\n"
          ]
        }
      ],
      "source": [
        "num = 1\n",
        "while num <= 12:\n",
        "  print(f'5 x {num:>2} = {5*num:>3}')\n",
        "  num += 1"
      ]
    },
    {
      "cell_type": "markdown",
      "metadata": {
        "id": "jChvcJseZBK-"
      },
      "source": [
        "### 5. Using for loop generate the table of 8"
      ]
    },
    {
      "cell_type": "code",
      "execution_count": 26,
      "metadata": {
        "id": "pemv-dbNZBK_",
        "outputId": "9ce2b3da-b719-4366-82fe-4b2a79df5560",
        "colab": {
          "base_uri": "https://localhost:8080/"
        }
      },
      "outputs": [
        {
          "output_type": "stream",
          "name": "stdout",
          "text": [
            "8 x  1 =  8\n",
            "8 x  2 = 16\n",
            "8 x  3 = 24\n",
            "8 x  4 = 32\n",
            "8 x  5 = 40\n",
            "8 x  6 = 48\n",
            "8 x  7 = 56\n",
            "8 x  8 = 64\n",
            "8 x  9 = 72\n",
            "8 x 10 = 80\n",
            "8 x 11 = 88\n",
            "8 x 12 = 96\n"
          ]
        }
      ],
      "source": [
        "for i in range(1, 13):\n",
        "  print(f'8 x {i:>2} = {8 * i:>2}')"
      ]
    },
    {
      "cell_type": "markdown",
      "metadata": {
        "id": "Xg8dces3ZBLA"
      },
      "source": [
        "### 6. For numbers 1 to 100, if a number is divisible by 3, then print Fizz.\n",
        "### If a number is divisible by 5, then print Buzz.\n",
        "### If a number is divisible by 3 and 5 both, then print FizzBuzz\n",
        "### If a number is neither divisible by 3 or 5, just print the number.\n",
        "\n",
        "Hint: use range(1,101) function  to generate numbers from 1 to 100"
      ]
    },
    {
      "cell_type": "code",
      "execution_count": 29,
      "metadata": {
        "id": "VNz9WxztZBLD",
        "outputId": "6ed6702e-4e3f-41ec-d720-9de1be214a88",
        "colab": {
          "base_uri": "https://localhost:8080/"
        }
      },
      "outputs": [
        {
          "output_type": "stream",
          "name": "stdout",
          "text": [
            "1\n",
            "2\n",
            "Fizz\n",
            "4\n",
            "Buzz\n",
            "Fizz\n",
            "7\n",
            "8\n",
            "Fizz\n",
            "Buzz\n",
            "11\n",
            "Fizz\n",
            "13\n",
            "14\n",
            "FizzBuzz\n",
            "16\n",
            "17\n",
            "Fizz\n",
            "19\n",
            "Buzz\n",
            "Fizz\n",
            "22\n",
            "23\n",
            "Fizz\n",
            "Buzz\n",
            "26\n",
            "Fizz\n",
            "28\n",
            "29\n",
            "FizzBuzz\n",
            "31\n",
            "32\n",
            "Fizz\n",
            "34\n",
            "Buzz\n",
            "Fizz\n",
            "37\n",
            "38\n",
            "Fizz\n",
            "Buzz\n",
            "41\n",
            "Fizz\n",
            "43\n",
            "44\n",
            "FizzBuzz\n",
            "46\n",
            "47\n",
            "Fizz\n",
            "49\n",
            "Buzz\n",
            "Fizz\n",
            "52\n",
            "53\n",
            "Fizz\n",
            "Buzz\n",
            "56\n",
            "Fizz\n",
            "58\n",
            "59\n",
            "FizzBuzz\n",
            "61\n",
            "62\n",
            "Fizz\n",
            "64\n",
            "Buzz\n",
            "Fizz\n",
            "67\n",
            "68\n",
            "Fizz\n",
            "Buzz\n",
            "71\n",
            "Fizz\n",
            "73\n",
            "74\n",
            "FizzBuzz\n",
            "76\n",
            "77\n",
            "Fizz\n",
            "79\n",
            "Buzz\n",
            "Fizz\n",
            "82\n",
            "83\n",
            "Fizz\n",
            "Buzz\n",
            "86\n",
            "Fizz\n",
            "88\n",
            "89\n",
            "FizzBuzz\n",
            "91\n",
            "92\n",
            "Fizz\n",
            "94\n",
            "Buzz\n",
            "Fizz\n",
            "97\n",
            "98\n",
            "Fizz\n",
            "Buzz\n"
          ]
        }
      ],
      "source": [
        "result = None\n",
        "for num in range(1, 101):\n",
        "  result = num\n",
        "  if num % 3 == 0 and num % 5 == 0: # num divisible by both 3 and 5\n",
        "    result = 'FizzBuzz'\n",
        "  elif num % 3 == 0: # num divisible by 3\n",
        "    result = 'Fizz'\n",
        "  elif num % 5 == 0: # num divisible by 5\n",
        "    result = 'Buzz'\n",
        "  print(result)"
      ]
    },
    {
      "cell_type": "markdown",
      "metadata": {
        "id": "fPdSbQeeZBLE"
      },
      "source": [
        "### 7.  Using the range function find the sum of all numbers from 1 to 100.\n",
        "    For the numbers in the range (1,100):1+2+3+4+5......+100 = 5050"
      ]
    },
    {
      "cell_type": "code",
      "execution_count": 34,
      "metadata": {
        "id": "zE8w2C-AZBLE",
        "outputId": "06ec00f3-5f97-4f1f-97c6-572a2a17ec1e",
        "colab": {
          "base_uri": "https://localhost:8080/"
        }
      },
      "outputs": [
        {
          "output_type": "stream",
          "name": "stdout",
          "text": [
            "5050\n"
          ]
        }
      ],
      "source": [
        "total = 0\n",
        "for num in range(1, 101):\n",
        "  total += num\n",
        "print(total)"
      ]
    },
    {
      "cell_type": "markdown",
      "metadata": {
        "id": "Jr6OpUWbZBLF"
      },
      "source": [
        "### 8. Write a program which will find all such numbers which are divisible by 7 but are not a multiple of 5, between 202 and 320 (both included)."
      ]
    },
    {
      "cell_type": "code",
      "execution_count": 40,
      "metadata": {
        "id": "qT1J05auZBLG",
        "outputId": "225cc41d-6b76-4046-ebff-92026e026a7a",
        "colab": {
          "base_uri": "https://localhost:8080/"
        }
      },
      "outputs": [
        {
          "output_type": "execute_result",
          "data": {
            "text/plain": [
              "[203, 217, 224, 231, 238, 252, 259, 266, 273, 287, 294, 301, 308]"
            ]
          },
          "metadata": {},
          "execution_count": 40
        }
      ],
      "source": [
        "[num for num in range(202, 321) if num % 7 == 0 and num % 5 != 0]"
      ]
    },
    {
      "cell_type": "markdown",
      "metadata": {
        "id": "JPMZI1t5ZBLG"
      },
      "source": [
        "### 9. Python Program to count the number of vowels in a string.\n",
        "st = \"Data Science\"\n",
        "\n",
        "Output: No of vowels = 5"
      ]
    },
    {
      "cell_type": "code",
      "execution_count": 45,
      "metadata": {
        "id": "eiaDVwZ9ZBLH",
        "outputId": "a82cc288-267f-4c2c-8f66-c2dda0a3c10d",
        "colab": {
          "base_uri": "https://localhost:8080/"
        }
      },
      "outputs": [
        {
          "output_type": "execute_result",
          "data": {
            "text/plain": [
              "5"
            ]
          },
          "metadata": {},
          "execution_count": 45
        }
      ],
      "source": [
        "st = \"Data Science\"\n",
        "vowels = ['a', 'i', 'e', 'o', 'u']\n",
        "sum([char.casefold() in vowels for char in st])"
      ]
    },
    {
      "cell_type": "markdown",
      "metadata": {
        "id": "46Tp7tEjZBLI"
      },
      "source": [
        "### 10. Print Data Science 5 times using for loop"
      ]
    },
    {
      "cell_type": "code",
      "execution_count": 48,
      "metadata": {
        "id": "QckEq3lZZBLJ",
        "outputId": "739fce63-01e7-40f5-e430-b5573bc2c48c",
        "colab": {
          "base_uri": "https://localhost:8080/"
        }
      },
      "outputs": [
        {
          "output_type": "stream",
          "name": "stdout",
          "text": [
            "1. Data Science\n",
            "2. Data Science\n",
            "3. Data Science\n",
            "4. Data Science\n",
            "5. Data Science\n"
          ]
        }
      ],
      "source": [
        "for i in range(5):\n",
        "  print(f\"{i+1}. Data Science\")"
      ]
    }
  ],
  "metadata": {
    "kernelspec": {
      "display_name": "Python 3 (ipykernel)",
      "language": "python",
      "name": "python3"
    },
    "language_info": {
      "codemirror_mode": {
        "name": "ipython",
        "version": 3
      },
      "file_extension": ".py",
      "mimetype": "text/x-python",
      "name": "python",
      "nbconvert_exporter": "python",
      "pygments_lexer": "ipython3",
      "version": "3.9.7"
    },
    "colab": {
      "provenance": [],
      "include_colab_link": true
    }
  },
  "nbformat": 4,
  "nbformat_minor": 0
}