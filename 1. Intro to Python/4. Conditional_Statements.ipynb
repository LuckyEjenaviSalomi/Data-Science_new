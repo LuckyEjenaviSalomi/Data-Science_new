{
  "cells": [
    {
      "cell_type": "markdown",
      "metadata": {
        "id": "view-in-github",
        "colab_type": "text"
      },
      "source": [
        "<a href=\"https://colab.research.google.com/github/LuckyEjenaviSalomi/Data-Science_new/blob/main/1.%20Intro%20to%20Python/4.%20Conditional_Statements.ipynb\" target=\"_parent\"><img src=\"https://colab.research.google.com/assets/colab-badge.svg\" alt=\"Open In Colab\"/></a>"
      ]
    },
    {
      "cell_type": "markdown",
      "metadata": {
        "id": "7HnVM22CY_HS"
      },
      "source": [
        "# **CONDITIONAL STATEMENTS EXERCISE**"
      ]
    },
    {
      "cell_type": "markdown",
      "metadata": {
        "id": "slnYV4TDY_Hb"
      },
      "source": [
        "### 1. Check if a is equal to 10, If yes, print \"Hello\", else print \"Good Bye\"\n",
        "a = 56"
      ]
    },
    {
      "cell_type": "code",
      "execution_count": 7,
      "metadata": {
        "id": "5mpcBKeOY_Hd"
      },
      "outputs": [],
      "source": [
        "a = 56"
      ]
    },
    {
      "cell_type": "code",
      "source": [
        "msg = ''\n",
        "if a == 10:\n",
        "  msg ='Hello'\n",
        "else:\n",
        "  msg = 'Good Bye'\n",
        "print(msg)"
      ],
      "metadata": {
        "id": "kExWZtUAb3Cm",
        "outputId": "0ef2d1e3-911b-496b-8767-bdcd091f5b40",
        "colab": {
          "base_uri": "https://localhost:8080/"
        }
      },
      "execution_count": 8,
      "outputs": [
        {
          "output_type": "stream",
          "name": "stdout",
          "text": [
            "Good Bye\n"
          ]
        }
      ]
    },
    {
      "cell_type": "markdown",
      "metadata": {
        "id": "C9B_TKYtY_Hf"
      },
      "source": [
        "### 2. Check whether a number is even or odd\n",
        "a = 2020"
      ]
    },
    {
      "cell_type": "code",
      "execution_count": 12,
      "metadata": {
        "id": "QVm_wLDoY_Hi",
        "outputId": "a51ee51d-4336-496f-fba7-f396a883163a",
        "colab": {
          "base_uri": "https://localhost:8080/"
        }
      },
      "outputs": [
        {
          "output_type": "stream",
          "name": "stdout",
          "text": [
            "even\n"
          ]
        }
      ],
      "source": [
        "a = 2020\n",
        "result = 'odd'\n",
        "if a % 2 == 0:\n",
        "  result = 'even'\n",
        "print(result)"
      ]
    },
    {
      "cell_type": "markdown",
      "metadata": {
        "id": "YbCPb14VY_Hj"
      },
      "source": [
        "### 3.  Check whether the area of the rectangle is greater than the perimeter of the rectangle\n",
        "length = 5\n",
        "breadth = 10\n",
        "\n",
        "Hint: Area of rectangle = length * breadth\n",
        "\n",
        "Hint: Perimeter of rectangle = 2 * (length + breadth)"
      ]
    },
    {
      "cell_type": "code",
      "execution_count": 16,
      "metadata": {
        "id": "W10vdCCGY_Hl",
        "outputId": "68474701-ca26-4b63-d546-6271f9739f55",
        "colab": {
          "base_uri": "https://localhost:8080/"
        }
      },
      "outputs": [
        {
          "output_type": "stream",
          "name": "stdout",
          "text": [
            "Is the area and perimeter of the rectangle equal? False\n"
          ]
        }
      ],
      "source": [
        "length, breadth = 5, 10\n",
        "area_rec = length * breadth\n",
        "per_rec = 2 * (length + breadth)\n",
        "print(f'Is the area and perimeter of the rectangle equal? {area_rec == per_rec}')"
      ]
    },
    {
      "cell_type": "markdown",
      "metadata": {
        "id": "KvL1TRL4Y_Hn"
      },
      "source": [
        "### 4. Calculate the average marks of a student in 5 subjects and give grades accordingly:\n",
        "If average>90 then Grade = A\n",
        "\n",
        "If average>80 then Grade = B\n",
        "\n",
        "If average>70 then Grade = C\n",
        "\n",
        "If average>60 then Grade = D\n",
        "\n",
        "If average>50 then Grade = E\n",
        "\n",
        "else Fail\n",
        "\n",
        "Marks in subject 1= 72\n",
        "\n",
        "Marks in subject 2= 85\n",
        "\n",
        "Marks in subject 3= 96\n",
        "\n",
        "Marks in subject 4= 42\n",
        "\n",
        "Marks in subject 5= 95"
      ]
    },
    {
      "cell_type": "code",
      "execution_count": 23,
      "metadata": {
        "id": "3_Ix40xoY_Hp"
      },
      "outputs": [],
      "source": [
        "def get_grade(score: float)-> list:\n",
        "  grade = None\n",
        "  if score > 90:\n",
        "    grade = 'A'\n",
        "  elif score > 80:\n",
        "    grade = 'B'\n",
        "  elif score > 70:\n",
        "    grade = 'C'\n",
        "  elif score > 60:\n",
        "    grade = 'D'\n",
        "  elif score > 50:\n",
        "    grade = 'E'\n",
        "  else:\n",
        "    grade = 'F'\n",
        "  return grade"
      ]
    },
    {
      "cell_type": "code",
      "source": [
        "subjects = ['subject 1', 'subject 2', 'subject 3', 'subject 4', 'subject 5']\n",
        "scores = [72, 85, 96, 42, 95]\n",
        "grades = map(get_grade, scores)\n",
        "results = dict(zip(subjects, zip(scores, grades)))\n",
        "results"
      ],
      "metadata": {
        "id": "WKVE93BDhQy6",
        "outputId": "6660fc1e-829b-40b0-cde6-28bd91ae15bf",
        "colab": {
          "base_uri": "https://localhost:8080/"
        }
      },
      "execution_count": 36,
      "outputs": [
        {
          "output_type": "execute_result",
          "data": {
            "text/plain": [
              "{'subject 1': (72, 'C'),\n",
              " 'subject 2': (85, 'B'),\n",
              " 'subject 3': (96, 'A'),\n",
              " 'subject 4': (42, 'F'),\n",
              " 'subject 5': (95, 'A')}"
            ]
          },
          "metadata": {},
          "execution_count": 36
        }
      ]
    },
    {
      "cell_type": "markdown",
      "metadata": {
        "id": "hrV-X3MNY_Hq"
      },
      "source": [
        "###  5. Check if a triangle is equilateral, isosceles or scalene.\n",
        "\n",
        "Hint :\n",
        "1. An equilateral triangle is a triangle in which all three sides are equal.\n",
        "\n",
        "2. A scalene triangle is a triangle that has three unequal sides.\n",
        "\n",
        "3. An isosceles triangle is a triangle with (at least) two equal sides.\n",
        "\n",
        "Dimensions of triangle:\n",
        "\n",
        "side 1 = 6\n",
        "\n",
        "side 2 = 8\n",
        "\n",
        "side 3 = 12"
      ]
    },
    {
      "cell_type": "code",
      "execution_count": 42,
      "metadata": {
        "id": "sv8lPbgJY_Ht"
      },
      "outputs": [],
      "source": [
        "sides = [6, 8, 12]"
      ]
    },
    {
      "cell_type": "code",
      "source": [
        "result = []\n",
        "for i in range(len(sides)):\n",
        "  result.extend([side == sides[i] for side in sides])"
      ],
      "metadata": {
        "id": "dx5VsoiFjqJX"
      },
      "execution_count": 49,
      "outputs": []
    },
    {
      "cell_type": "code",
      "source": [
        "no_equal_sides = sum(result)/3\n",
        "msg = ''\n",
        "if no_equal_sides == 1:\n",
        "  msg = 'scalene'\n",
        "elif no_equal_sides == 2:\n",
        "  msg = 'isosceles'\n",
        "else:\n",
        "  msg = 'equilateral'\n",
        "print(msg + 'triangle')"
      ],
      "metadata": {
        "id": "vN1z-Gt4lXyi",
        "outputId": "bf9c43d9-2ca5-4241-b5a4-f36957fa443d",
        "colab": {
          "base_uri": "https://localhost:8080/"
        }
      },
      "execution_count": 54,
      "outputs": [
        {
          "output_type": "stream",
          "name": "stdout",
          "text": [
            "scalenetriangle\n"
          ]
        }
      ]
    },
    {
      "cell_type": "markdown",
      "metadata": {
        "id": "R0eO-bAzY_Ht"
      },
      "source": [
        "### 6. Check if the word \"Data\" is present in the sentence \"I am a Data Scientist\". If found print \"It is present\" else print FALSE"
      ]
    },
    {
      "cell_type": "code",
      "execution_count": 59,
      "metadata": {
        "id": "NYltNtCQY_Hv",
        "outputId": "d9add3d4-3586-4b9c-ec87-8cb3f9e69ff6",
        "colab": {
          "base_uri": "https://localhost:8080/"
        }
      },
      "outputs": [
        {
          "output_type": "stream",
          "name": "stdout",
          "text": [
            "True\n"
          ]
        }
      ],
      "source": [
        "word = 'Data'\n",
        "sentence = 'I am a Data Scientist'\n",
        "print(word.casefold() in sentence.casefold())"
      ]
    },
    {
      "cell_type": "markdown",
      "metadata": {
        "id": "SDmXBzFgY_Hv"
      },
      "source": [
        "### 7. Write Python code to check if a number is positive or negative."
      ]
    },
    {
      "cell_type": "code",
      "execution_count": 63,
      "metadata": {
        "id": "jD0FYHkyY_Hw",
        "outputId": "67c370ca-183f-41c8-aef4-5ba6808176aa",
        "colab": {
          "base_uri": "https://localhost:8080/"
        }
      },
      "outputs": [
        {
          "output_type": "stream",
          "name": "stdout",
          "text": [
            "True\n"
          ]
        }
      ],
      "source": [
        "number = -2\n",
        "print(number < 0)"
      ]
    },
    {
      "cell_type": "markdown",
      "metadata": {
        "id": "X_vrVK0_Y_Hx"
      },
      "source": [
        "### 8. x = 20 and y = 30. Write a Python code to check if x is less than y."
      ]
    },
    {
      "cell_type": "code",
      "execution_count": 64,
      "metadata": {
        "id": "6UhdCgdSY_Hy",
        "outputId": "c098ba67-5681-416c-9381-1d52cb56339a",
        "colab": {
          "base_uri": "https://localhost:8080/"
        }
      },
      "outputs": [
        {
          "output_type": "stream",
          "name": "stdout",
          "text": [
            "True\n"
          ]
        }
      ],
      "source": [
        "x, y = 20, 30\n",
        "print(x < y)"
      ]
    },
    {
      "cell_type": "markdown",
      "metadata": {
        "id": "4XcXjwEFY_Hy"
      },
      "source": [
        "### 9. Based on the users age, divide them into three groups\n",
        "    Group 1 : Age <18 , Minors who are not eligible to work\n",
        "    Group 2 : 18 < Age < 60 , Eligible to work\n",
        "    Group 3 : Age > 60, Too old to work as per govt. regulations.\n",
        "\n",
        "### Write a Python code for the same"
      ]
    },
    {
      "cell_type": "code",
      "execution_count": 66,
      "metadata": {
        "id": "MaBOtIevY_Hz",
        "outputId": "14d45300-257a-4a11-82d2-66eeeb80c1cf",
        "colab": {
          "base_uri": "https://localhost:8080/"
        }
      },
      "outputs": [
        {
          "output_type": "stream",
          "name": "stdout",
          "text": [
            "Too old to work as per govt. regulations.\n"
          ]
        }
      ],
      "source": [
        "age = 70\n",
        "group = None\n",
        "if age < 18:\n",
        "  group = 'Minors who are not eligible to work'\n",
        "elif 18 < age < 60:\n",
        "  group = 'Eligible to work'\n",
        "elif age > 60:\n",
        "  group = 'Too old to work as per govt. regulations.'\n",
        "\n",
        "print(group)"
      ]
    },
    {
      "cell_type": "markdown",
      "metadata": {
        "id": "J5cMd3uMY_H0"
      },
      "source": [
        "### 10. From the age of 3 people determine the oldest person among them.\n",
        "Age of first person = 25\n",
        "\n",
        "Age of second person = 34\n",
        "\n",
        "Age of third person = 45"
      ]
    },
    {
      "cell_type": "code",
      "execution_count": 67,
      "metadata": {
        "id": "A9V7kMpWY_H0",
        "outputId": "38bd0206-a925-4f72-ed0e-8d173b3ed33e",
        "colab": {
          "base_uri": "https://localhost:8080/"
        }
      },
      "outputs": [
        {
          "output_type": "execute_result",
          "data": {
            "text/plain": [
              "45"
            ]
          },
          "metadata": {},
          "execution_count": 67
        }
      ],
      "source": [
        "ages = [25, 34, 45]\n",
        "max(ages)"
      ]
    }
  ],
  "metadata": {
    "kernelspec": {
      "display_name": "Python 3 (ipykernel)",
      "language": "python",
      "name": "python3"
    },
    "language_info": {
      "codemirror_mode": {
        "name": "ipython",
        "version": 3
      },
      "file_extension": ".py",
      "mimetype": "text/x-python",
      "name": "python",
      "nbconvert_exporter": "python",
      "pygments_lexer": "ipython3",
      "version": "3.9.7"
    },
    "colab": {
      "provenance": [],
      "include_colab_link": true
    }
  },
  "nbformat": 4,
  "nbformat_minor": 0
}