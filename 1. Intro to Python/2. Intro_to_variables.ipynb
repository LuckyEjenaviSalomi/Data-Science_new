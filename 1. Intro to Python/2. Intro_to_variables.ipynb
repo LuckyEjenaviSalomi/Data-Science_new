{
  "cells": [
    {
      "cell_type": "markdown",
      "metadata": {
        "id": "view-in-github",
        "colab_type": "text"
      },
      "source": [
        "<a href=\"https://colab.research.google.com/github/LuckyEjenaviSalomi/Data-Science_new/blob/main/2.%20Intro_to_variables.ipynb\" target=\"_parent\"><img src=\"https://colab.research.google.com/assets/colab-badge.svg\" alt=\"Open In Colab\"/></a>"
      ]
    },
    {
      "cell_type": "markdown",
      "metadata": {
        "id": "DZSjU3ZSh9_3"
      },
      "source": [
        "# **INTRO TO VARIABLE EXERCISE**"
      ]
    },
    {
      "cell_type": "markdown",
      "metadata": {
        "id": "KoGMqZO-h9_6"
      },
      "source": [
        "### 1. What will be the type of the *add* variable?\n",
        "a = 10\n",
        "\n",
        "b = 5.1\n",
        "\n",
        "add = a + b"
      ]
    },
    {
      "cell_type": "code",
      "execution_count": null,
      "metadata": {
        "id": "aHkf733jh9_7"
      },
      "outputs": [],
      "source": []
    },
    {
      "cell_type": "markdown",
      "metadata": {
        "id": "V9P4yE9kh9_8"
      },
      "source": [
        "### 2. Is 5 == (3+2)?"
      ]
    },
    {
      "cell_type": "code",
      "execution_count": null,
      "metadata": {
        "id": "f0kXs6iah9_8"
      },
      "outputs": [],
      "source": []
    },
    {
      "cell_type": "markdown",
      "metadata": {
        "id": "8rxanJG3h9_8"
      },
      "source": [
        "### 3. Add 33 in variable *a* and print the result\n",
        "\n",
        "a = 3"
      ]
    },
    {
      "cell_type": "code",
      "execution_count": null,
      "metadata": {
        "id": "d0CRxOnCh9_9"
      },
      "outputs": [],
      "source": []
    },
    {
      "cell_type": "markdown",
      "metadata": {
        "id": "nqhHIN0kh9_9"
      },
      "source": [
        "### 4. Convert integer variable *a* to float and check its type\n",
        "\n",
        "a = 3"
      ]
    },
    {
      "cell_type": "code",
      "execution_count": null,
      "metadata": {
        "id": "sq_qBs_oh9_9"
      },
      "outputs": [],
      "source": []
    },
    {
      "cell_type": "markdown",
      "metadata": {
        "id": "o5WfLuN0h9_9"
      },
      "source": [
        "### 5. What will be 5 times *a* if the value of a is 10?"
      ]
    },
    {
      "cell_type": "code",
      "execution_count": null,
      "metadata": {
        "id": "SV2pD36Ph9_-"
      },
      "outputs": [],
      "source": []
    },
    {
      "cell_type": "markdown",
      "metadata": {
        "id": "mBYvVvD0h9_-"
      },
      "source": [
        "### 6. Write a program to calculate the area of a triangle with base = 10 and height = 5\n",
        "\n",
        "Hint : area of triangle = 1/2 * base * height"
      ]
    },
    {
      "cell_type": "code",
      "execution_count": null,
      "metadata": {
        "id": "QvZLDV3Qh9_-"
      },
      "outputs": [],
      "source": []
    },
    {
      "cell_type": "markdown",
      "metadata": {
        "id": "QuS_t3WWh9_-"
      },
      "source": [
        "### 7. What will be the value of *z* in the following expression:\n",
        "\n",
        "z = (v + w) * (x / y)\n",
        "\n",
        "If\n",
        "\n",
        "v = 10\n",
        "\n",
        "w = 25\n",
        "\n",
        "x = 70\n",
        "\n",
        "y = 2"
      ]
    },
    {
      "cell_type": "code",
      "execution_count": null,
      "metadata": {
        "id": "vJe5yE9ph9_-"
      },
      "outputs": [],
      "source": []
    },
    {
      "cell_type": "markdown",
      "metadata": {
        "id": "NOJSEv0Fh9_-"
      },
      "source": [
        "### 8. Swap values of *a* and *b*\n",
        "If before swapping a = 10 and b = 5\n",
        "\n",
        "Then after swapping a = 5 and b = 10\n",
        "##### Values can not be hardcoded"
      ]
    },
    {
      "cell_type": "code",
      "execution_count": null,
      "metadata": {
        "id": "UYzgnoBLh9__"
      },
      "outputs": [],
      "source": []
    },
    {
      "cell_type": "markdown",
      "metadata": {
        "id": "H3IIrGHlh9__"
      },
      "source": [
        "### 9. Convert 35 degree Celsius temperature to Fahrenheit"
      ]
    },
    {
      "cell_type": "code",
      "execution_count": null,
      "metadata": {
        "id": "yvsKuM9fh9__"
      },
      "outputs": [],
      "source": []
    }
  ],
  "metadata": {
    "kernelspec": {
      "display_name": "Python 3 (ipykernel)",
      "language": "python",
      "name": "python3"
    },
    "language_info": {
      "codemirror_mode": {
        "name": "ipython",
        "version": 3
      },
      "file_extension": ".py",
      "mimetype": "text/x-python",
      "name": "python",
      "nbconvert_exporter": "python",
      "pygments_lexer": "ipython3",
      "version": "3.9.7"
    },
    "colab": {
      "provenance": [],
      "include_colab_link": true
    }
  },
  "nbformat": 4,
  "nbformat_minor": 0
}