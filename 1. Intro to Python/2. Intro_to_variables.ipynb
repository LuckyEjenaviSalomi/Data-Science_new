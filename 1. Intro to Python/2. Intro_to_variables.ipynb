{
  "cells": [
    {
      "cell_type": "markdown",
      "metadata": {
        "id": "view-in-github",
        "colab_type": "text"
      },
      "source": [
        "<a href=\"https://colab.research.google.com/github/LuckyEjenaviSalomi/Data-Science_new/blob/main/1.%20Intro%20to%20Python/2.%20Intro_to_variables.ipynb\" target=\"_parent\"><img src=\"https://colab.research.google.com/assets/colab-badge.svg\" alt=\"Open In Colab\"/></a>"
      ]
    },
    {
      "cell_type": "markdown",
      "metadata": {
        "id": "DZSjU3ZSh9_3"
      },
      "source": [
        "# **INTRO TO VARIABLE EXERCISE**"
      ]
    },
    {
      "cell_type": "markdown",
      "metadata": {
        "id": "KoGMqZO-h9_6"
      },
      "source": [
        "### 1. What will be the type of the *add* variable?\n",
        "a = 10\n",
        "\n",
        "b = 5.1\n",
        "\n",
        "add = a + b"
      ]
    },
    {
      "cell_type": "code",
      "execution_count": 1,
      "metadata": {
        "id": "aHkf733jh9_7"
      },
      "outputs": [],
      "source": [
        "a = 10\n",
        "b = 5.1\n",
        "add = a + b"
      ]
    },
    {
      "cell_type": "code",
      "source": [
        "type(add)"
      ],
      "metadata": {
        "id": "CAvIJHFtAEw8",
        "outputId": "211b731b-7973-4d5e-a43b-631fa03b7279",
        "colab": {
          "base_uri": "https://localhost:8080/"
        }
      },
      "execution_count": 2,
      "outputs": [
        {
          "output_type": "execute_result",
          "data": {
            "text/plain": [
              "float"
            ]
          },
          "metadata": {},
          "execution_count": 2
        }
      ]
    },
    {
      "cell_type": "markdown",
      "metadata": {
        "id": "V9P4yE9kh9_8"
      },
      "source": [
        "### 2. Is 5 == (3+2)?"
      ]
    },
    {
      "cell_type": "code",
      "execution_count": 3,
      "metadata": {
        "id": "f0kXs6iah9_8",
        "outputId": "66918263-1c93-4708-aa9b-47620cafcf0f",
        "colab": {
          "base_uri": "https://localhost:8080/"
        }
      },
      "outputs": [
        {
          "output_type": "execute_result",
          "data": {
            "text/plain": [
              "True"
            ]
          },
          "metadata": {},
          "execution_count": 3
        }
      ],
      "source": [
        "5 == (3+2)"
      ]
    },
    {
      "cell_type": "markdown",
      "metadata": {
        "id": "8rxanJG3h9_8"
      },
      "source": [
        "### 3. Add 33 to variable *a* and print the result\n",
        "\n",
        "a = 3"
      ]
    },
    {
      "cell_type": "code",
      "execution_count": 5,
      "metadata": {
        "id": "d0CRxOnCh9_9",
        "outputId": "c83b0c94-840f-442e-b128-dcbe2355bbe7",
        "colab": {
          "base_uri": "https://localhost:8080/"
        }
      },
      "outputs": [
        {
          "output_type": "stream",
          "name": "stdout",
          "text": [
            "36\n"
          ]
        }
      ],
      "source": [
        "a = 3\n",
        "print(a + 33)"
      ]
    },
    {
      "cell_type": "markdown",
      "metadata": {
        "id": "nqhHIN0kh9_9"
      },
      "source": [
        "### 4. Convert integer variable *a* to float and check its type\n",
        "\n",
        "a = 3"
      ]
    },
    {
      "cell_type": "code",
      "execution_count": 7,
      "metadata": {
        "id": "sq_qBs_oh9_9",
        "outputId": "d4bd4a3e-4b4a-4b38-8af9-2ff0d9e78dd7",
        "colab": {
          "base_uri": "https://localhost:8080/"
        }
      },
      "outputs": [
        {
          "output_type": "execute_result",
          "data": {
            "text/plain": [
              "float"
            ]
          },
          "metadata": {},
          "execution_count": 7
        }
      ],
      "source": [
        "a = 3\n",
        "a = float(a)\n",
        "type(a)"
      ]
    },
    {
      "cell_type": "markdown",
      "metadata": {
        "id": "o5WfLuN0h9_9"
      },
      "source": [
        "### 5. What will be 5 times *a* if the value of a is 10?"
      ]
    },
    {
      "cell_type": "code",
      "execution_count": 8,
      "metadata": {
        "id": "SV2pD36Ph9_-",
        "outputId": "173aed06-8f9f-4024-ee37-0ca5d5fd55e6",
        "colab": {
          "base_uri": "https://localhost:8080/"
        }
      },
      "outputs": [
        {
          "output_type": "execute_result",
          "data": {
            "text/plain": [
              "50"
            ]
          },
          "metadata": {},
          "execution_count": 8
        }
      ],
      "source": [
        "a = 10\n",
        "a * 5"
      ]
    },
    {
      "cell_type": "markdown",
      "metadata": {
        "id": "mBYvVvD0h9_-"
      },
      "source": [
        "### 6. Write a program to calculate the area of a triangle with base = 10 and height = 5\n",
        "\n",
        "Hint : area of triangle = 1/2 * base * height"
      ]
    },
    {
      "cell_type": "code",
      "execution_count": 9,
      "metadata": {
        "id": "QvZLDV3Qh9_-",
        "outputId": "78ed694b-1837-4ed3-f38f-d95f260b2504",
        "colab": {
          "base_uri": "https://localhost:8080/"
        }
      },
      "outputs": [
        {
          "output_type": "execute_result",
          "data": {
            "text/plain": [
              "25.0"
            ]
          },
          "metadata": {},
          "execution_count": 9
        }
      ],
      "source": [
        "b = 10\n",
        "h = 5\n",
        "area_triangle = (1/2) * (b * h)\n",
        "area_triangle"
      ]
    },
    {
      "cell_type": "markdown",
      "metadata": {
        "id": "QuS_t3WWh9_-"
      },
      "source": [
        "### 7. What will be the value of *z* in the following expression:\n",
        "\n",
        "z = (v + w) * (x / y)\n",
        "\n",
        "If\n",
        "\n",
        "v = 10\n",
        "\n",
        "w = 25\n",
        "\n",
        "x = 70\n",
        "\n",
        "y = 2"
      ]
    },
    {
      "cell_type": "code",
      "execution_count": 10,
      "metadata": {
        "id": "vJe5yE9ph9_-",
        "outputId": "c8c347e2-99d5-478b-d9c7-5b28492ba0c2",
        "colab": {
          "base_uri": "https://localhost:8080/"
        }
      },
      "outputs": [
        {
          "output_type": "execute_result",
          "data": {
            "text/plain": [
              "1225.0"
            ]
          },
          "metadata": {},
          "execution_count": 10
        }
      ],
      "source": [
        "v = 10\n",
        "\n",
        "w = 25\n",
        "\n",
        "x = 70\n",
        "\n",
        "y = 2\n",
        "\n",
        "z = (v + w) * (x / y)\n",
        "z"
      ]
    },
    {
      "cell_type": "markdown",
      "metadata": {
        "id": "NOJSEv0Fh9_-"
      },
      "source": [
        "### 8. Swap values of *a* and *b*\n",
        "If before swapping a = 10 and b = 5\n",
        "\n",
        "Then after swapping a = 5 and b = 10\n",
        "##### Values can not be hardcoded"
      ]
    },
    {
      "cell_type": "code",
      "execution_count": 11,
      "metadata": {
        "id": "UYzgnoBLh9__"
      },
      "outputs": [],
      "source": [
        "a = 10\n",
        "b = 5\n",
        "a, b = b, a"
      ]
    },
    {
      "cell_type": "code",
      "source": [
        "print(a, b, sep=\"\\n\")"
      ],
      "metadata": {
        "id": "yTcb9M7ZBU1d",
        "outputId": "6989fd9c-05b7-490b-d5e4-6a7f0251d2de",
        "colab": {
          "base_uri": "https://localhost:8080/"
        }
      },
      "execution_count": 14,
      "outputs": [
        {
          "output_type": "stream",
          "name": "stdout",
          "text": [
            "5\n",
            "10\n"
          ]
        }
      ]
    },
    {
      "cell_type": "markdown",
      "metadata": {
        "id": "H3IIrGHlh9__"
      },
      "source": [
        "### 9. Convert 35 degree Celsius temperature to Fahrenheit"
      ]
    },
    {
      "cell_type": "code",
      "execution_count": 15,
      "metadata": {
        "id": "yvsKuM9fh9__",
        "outputId": "b644382f-052b-4fcb-d082-2ace15329059",
        "colab": {
          "base_uri": "https://localhost:8080/"
        }
      },
      "outputs": [
        {
          "output_type": "execute_result",
          "data": {
            "text/plain": [
              "95.0"
            ]
          },
          "metadata": {},
          "execution_count": 15
        }
      ],
      "source": [
        "c = 35\n",
        "f = (c * 9/5) + 32\n",
        "f"
      ]
    }
  ],
  "metadata": {
    "kernelspec": {
      "display_name": "Python 3 (ipykernel)",
      "language": "python",
      "name": "python3"
    },
    "language_info": {
      "codemirror_mode": {
        "name": "ipython",
        "version": 3
      },
      "file_extension": ".py",
      "mimetype": "text/x-python",
      "name": "python",
      "nbconvert_exporter": "python",
      "pygments_lexer": "ipython3",
      "version": "3.9.7"
    },
    "colab": {
      "provenance": [],
      "include_colab_link": true
    }
  },
  "nbformat": 4,
  "nbformat_minor": 0
}