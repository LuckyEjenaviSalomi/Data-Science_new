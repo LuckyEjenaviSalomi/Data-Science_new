{
  "cells": [
    {
      "cell_type": "markdown",
      "metadata": {
        "id": "view-in-github",
        "colab_type": "text"
      },
      "source": [
        "<a href=\"https://colab.research.google.com/github/LuckyEjenaviSalomi/Data-Science_new/blob/main/0.%20Projects/1.%20Electric%20Vehicles%20Market%20Size%20Analysis/Electric%20Vehicles%20Market%20Size%20Analysis.ipynb\" target=\"_parent\"><img src=\"https://colab.research.google.com/assets/colab-badge.svg\" alt=\"Open In Colab\"/></a>"
      ]
    },
    {
      "cell_type": "markdown",
      "id": "2b7e5efc-8e8c-44ea-98a3-7fca82bf2b92",
      "metadata": {
        "id": "2b7e5efc-8e8c-44ea-98a3-7fca82bf2b92"
      },
      "source": [
        "# Context"
      ]
    },
    {
      "cell_type": "markdown",
      "id": "0e997421-fe77-440f-81d5-380bac12cff8",
      "metadata": {
        "id": "0e997421-fe77-440f-81d5-380bac12cff8"
      },
      "source": [
        "Market size analysis is a crucial aspect of market research that determines the potential sales volume within a given market.\n",
        "It helps businesses understand the magnitude of demand, assess market saturation levels, and identify growth opportunities.\n",
        "\n",
        "Market Size Analysis is the process of estimating the potential sales for a product or service within a particular market segment.\n",
        "In the context of electric vehicles (EVs), it involves assessing the total volume of EV registrations to understand the growth of the market, forecast future trends, and help stakeholders make informed decisions regarding production, infrastructure development, and policy-making."
      ]
    },
    {
      "cell_type": "markdown",
      "id": "489596cb-11d5-46f2-ae80-13b8deb7d5e6",
      "metadata": {
        "id": "489596cb-11d5-46f2-ae80-13b8deb7d5e6"
      },
      "source": [
        "# Data Dictionary"
      ]
    },
    {
      "cell_type": "markdown",
      "id": "2e51d935-86b1-43b2-8b3b-2c38669e1bb0",
      "metadata": {
        "id": "2e51d935-86b1-43b2-8b3b-2c38669e1bb0"
      },
      "source": [
        "The provided [dataset](https://raw.githubusercontent.com/LuckyEjenaviSalomi/Data-Science_new/refs/heads/main/0.%20Projects/1.%20Electric%20Vehicles%20Market%20Size%20Analysis/Electric_Vehicle_Population_Data.csv) contains the following columns, each representing different aspects of the electric vehicle (EV) population in the United States:\n",
        "\n",
        "- **VIN (1-10):** Partial Vehicle Identification Number.\n",
        "- **County:** The county in which the vehicle is registered.\n",
        "- **City:** The city in which the vehicle is registered.\n",
        "- **State:** The state in which the vehicle is registered. It appears that this dataset may be focused on Washington (WA) state.\n",
        "- **Postal Code:** The postal code where the vehicle is registered.\n",
        "- **Model Year:** The year of the vehicle model.\n",
        "- **Make:** The manufacturer of the vehicle.\n",
        "- **Model:** The model of the vehicle.\n",
        "- **Electric Vehicle Type:** The type of electric vehicle, e.g., Battery Electric Vehicle (BEV).\n",
        "- **Clean Alternative Fuel Vehicle (CAFV) Eligibility:** Eligibility status for clean alternative fuel vehicle programs.\n",
        "- **Electric Range:** The maximum range of the vehicle on a single charge (in miles).\n",
        "- **Base MSRP:** The Manufacturer’s Suggested Retail Price.\n",
        "- **Legislative District:** The legislative district where the vehicle is registered.\n",
        "- **DOL Vehicle ID:** Department of Licensing Vehicle Identification.\n",
        "- **Vehicle Location:** Geographic coordinates of the vehicle location.\n",
        "- **Electric Utility:** The electric utility service provider for the vehicle’s location.\n",
        "- **2020 Census Tract:** The census tract for the vehicle’s location.\n",
        "\n",
        "--------------\n",
        "[**Original Data Source**](https://data.gov/)"
      ]
    },
    {
      "cell_type": "markdown",
      "id": "d24ee5c9-b4e5-4d5e-88c4-a67408703413",
      "metadata": {
        "id": "d24ee5c9-b4e5-4d5e-88c4-a67408703413"
      },
      "source": [
        "# Objective"
      ]
    },
    {
      "cell_type": "markdown",
      "id": "527d9a50-7e83-42d5-88ff-a79cabae323c",
      "metadata": {
        "id": "527d9a50-7e83-42d5-88ff-a79cabae323c"
      },
      "source": [
        "The primary objective of this analysis is to leverage historical EV registration data to understand the current market penetration of EVs, predict future market growth, and identify key trends and factors driving market expansion. The specific goals include:\n",
        "\n",
        "1. Assess the historical growth trend of EV registrations.\n",
        "2. Forecast future EV registrations based on historical trends.\n",
        "3. Analyze the distribution of EV registrations across different models, makes, and geographical regions.\n",
        "4. Estimate the market size and growth potential of the EV market for upcoming years.\n",
        "5. Provide insights to support stakeholders in decision-making processes related to production, infrastructure planning, and policy formulation."
      ]
    },
    {
      "cell_type": "markdown",
      "id": "7949df20-bddd-490f-b68b-c968e5bc1db7",
      "metadata": {
        "id": "7949df20-bddd-490f-b68b-c968e5bc1db7"
      },
      "source": [
        "# Process We Can Follow"
      ]
    },
    {
      "cell_type": "markdown",
      "id": "cad9c0f8-d13b-4686-9291-2a0a7c418390",
      "metadata": {
        "id": "cad9c0f8-d13b-4686-9291-2a0a7c418390"
      },
      "source": [
        "Market size analysis for electric vehicles involves a multi-step process that includes defining the market scope, collecting and preparing data, analytical modelling, and communicating findings through visualization and reporting. Below is the process you can follow for the task of electric vehicles market size analysis:\n",
        "\n",
        "- Define whether the analysis is global, regional, or focused on specific countries.\n",
        "- Gather information from industry associations, market research firms (e.g., BloombergNEF, IEA), and government publications relevant to the EV market.\n",
        "- Use historical data to identify trends in EV sales, production, and market.\n",
        "- Analyze the market size and growth rates for different EV segments.\n",
        "- Based on the market size analysis, provide strategic recommendations for businesses looking to enter or expand in the EV market."
      ]
    },
    {
      "cell_type": "markdown",
      "id": "a641be12-4611-444c-8324-6a34b7b745de",
      "metadata": {
        "id": "a641be12-4611-444c-8324-6a34b7b745de"
      },
      "source": [
        "# Data Analysis"
      ]
    },
    {
      "cell_type": "markdown",
      "id": "ff3328ca-f4b9-4305-857a-b8c486a3a057",
      "metadata": {
        "id": "ff3328ca-f4b9-4305-857a-b8c486a3a057"
      },
      "source": [
        "## Import Libraries"
      ]
    },
    {
      "cell_type": "code",
      "execution_count": 1,
      "id": "0211f60d-1cdc-4d61-9eaa-6904f2931009",
      "metadata": {
        "id": "0211f60d-1cdc-4d61-9eaa-6904f2931009"
      },
      "outputs": [],
      "source": [
        "import pandas as pd\n",
        "import numpy as np\n",
        "\n",
        "import matplotlib.pyplot as plt\n",
        "import seaborn as sns\n",
        "sns.set_style(\"whitegrid\")"
      ]
    },
    {
      "cell_type": "markdown",
      "id": "a4e8fe47-e129-42d9-9b35-7a03d6f18ded",
      "metadata": {
        "id": "a4e8fe47-e129-42d9-9b35-7a03d6f18ded"
      },
      "source": [
        "## Suppress warnings"
      ]
    },
    {
      "cell_type": "code",
      "execution_count": 2,
      "id": "58d347a3-d618-4182-8630-c739440bd426",
      "metadata": {
        "id": "58d347a3-d618-4182-8630-c739440bd426"
      },
      "outputs": [],
      "source": [
        "import warnings\n",
        "warnings.filterwarnings('ignore')"
      ]
    },
    {
      "cell_type": "markdown",
      "id": "07445fc3-3908-4303-b1d8-c6cb9c68ca8b",
      "metadata": {
        "id": "07445fc3-3908-4303-b1d8-c6cb9c68ca8b"
      },
      "source": [
        "## Read Data"
      ]
    },
    {
      "cell_type": "code",
      "execution_count": 3,
      "id": "86763d0a-e305-4c87-952e-2532250d1934",
      "metadata": {
        "id": "86763d0a-e305-4c87-952e-2532250d1934"
      },
      "outputs": [],
      "source": [
        "data_source = \"https://raw.githubusercontent.com/LuckyEjenaviSalomi/Data-Science_new/refs/heads/main/0.%20Projects/1.%20Electric%20Vehicles%20Market%20Size%20Analysis/Electric_Vehicle_Population_Data.csv\"\n",
        "ev_data = pd.read_csv(data_source)"
      ]
    },
    {
      "cell_type": "markdown",
      "source": [
        "### View Data Top Rows"
      ],
      "metadata": {
        "id": "PFdayiOL6PRH"
      },
      "id": "PFdayiOL6PRH"
    },
    {
      "cell_type": "code",
      "source": [
        "ev_data.head()"
      ],
      "metadata": {
        "colab": {
          "base_uri": "https://localhost:8080/",
          "height": 310
        },
        "id": "WLgsujJ86LUu",
        "outputId": "b8ee6a52-1b4a-4038-bab7-b30d9cd7e054"
      },
      "id": "WLgsujJ86LUu",
      "execution_count": 4,
      "outputs": [
        {
          "output_type": "execute_result",
          "data": {
            "text/plain": [
              "   VIN (1-10)     County       City State  Postal Code  Model Year   Make  \\\n",
              "0  5YJYGDEE1L       King    Seattle    WA      98122.0        2020  TESLA   \n",
              "1  7SAYGDEE9P  Snohomish    Bothell    WA      98021.0        2023  TESLA   \n",
              "2  5YJSA1E4XK       King    Seattle    WA      98109.0        2019  TESLA   \n",
              "3  5YJSA1E27G       King   Issaquah    WA      98027.0        2016  TESLA   \n",
              "4  5YJYGDEE5M     Kitsap  Suquamish    WA      98392.0        2021  TESLA   \n",
              "\n",
              "     Model           Electric Vehicle Type  \\\n",
              "0  MODEL Y  Battery Electric Vehicle (BEV)   \n",
              "1  MODEL Y  Battery Electric Vehicle (BEV)   \n",
              "2  MODEL S  Battery Electric Vehicle (BEV)   \n",
              "3  MODEL S  Battery Electric Vehicle (BEV)   \n",
              "4  MODEL Y  Battery Electric Vehicle (BEV)   \n",
              "\n",
              "   Clean Alternative Fuel Vehicle (CAFV) Eligibility  Electric Range  \\\n",
              "0            Clean Alternative Fuel Vehicle Eligible             291   \n",
              "1  Eligibility unknown as battery range has not b...               0   \n",
              "2            Clean Alternative Fuel Vehicle Eligible             270   \n",
              "3            Clean Alternative Fuel Vehicle Eligible             210   \n",
              "4  Eligibility unknown as battery range has not b...               0   \n",
              "\n",
              "   Base MSRP  Legislative District  DOL Vehicle ID  \\\n",
              "0          0                  37.0       125701579   \n",
              "1          0                   1.0       244285107   \n",
              "2          0                  36.0       156773144   \n",
              "3          0                   5.0       165103011   \n",
              "4          0                  23.0       205138552   \n",
              "\n",
              "                Vehicle Location  \\\n",
              "0   POINT (-122.30839 47.610365)   \n",
              "1  POINT (-122.179458 47.802589)   \n",
              "2   POINT (-122.34848 47.632405)   \n",
              "3   POINT (-122.03646 47.534065)   \n",
              "4   POINT (-122.55717 47.733415)   \n",
              "\n",
              "                                Electric Utility  2020 Census Tract  \n",
              "0   CITY OF SEATTLE - (WA)|CITY OF TACOMA - (WA)       5.303301e+10  \n",
              "1                         PUGET SOUND ENERGY INC       5.306105e+10  \n",
              "2   CITY OF SEATTLE - (WA)|CITY OF TACOMA - (WA)       5.303301e+10  \n",
              "3  PUGET SOUND ENERGY INC||CITY OF TACOMA - (WA)       5.303303e+10  \n",
              "4                         PUGET SOUND ENERGY INC       5.303594e+10  "
            ],
            "text/html": [
              "\n",
              "  <div id=\"df-f7e210fc-aa5d-4877-8bc6-fdd03825f871\" class=\"colab-df-container\">\n",
              "    <div>\n",
              "<style scoped>\n",
              "    .dataframe tbody tr th:only-of-type {\n",
              "        vertical-align: middle;\n",
              "    }\n",
              "\n",
              "    .dataframe tbody tr th {\n",
              "        vertical-align: top;\n",
              "    }\n",
              "\n",
              "    .dataframe thead th {\n",
              "        text-align: right;\n",
              "    }\n",
              "</style>\n",
              "<table border=\"1\" class=\"dataframe\">\n",
              "  <thead>\n",
              "    <tr style=\"text-align: right;\">\n",
              "      <th></th>\n",
              "      <th>VIN (1-10)</th>\n",
              "      <th>County</th>\n",
              "      <th>City</th>\n",
              "      <th>State</th>\n",
              "      <th>Postal Code</th>\n",
              "      <th>Model Year</th>\n",
              "      <th>Make</th>\n",
              "      <th>Model</th>\n",
              "      <th>Electric Vehicle Type</th>\n",
              "      <th>Clean Alternative Fuel Vehicle (CAFV) Eligibility</th>\n",
              "      <th>Electric Range</th>\n",
              "      <th>Base MSRP</th>\n",
              "      <th>Legislative District</th>\n",
              "      <th>DOL Vehicle ID</th>\n",
              "      <th>Vehicle Location</th>\n",
              "      <th>Electric Utility</th>\n",
              "      <th>2020 Census Tract</th>\n",
              "    </tr>\n",
              "  </thead>\n",
              "  <tbody>\n",
              "    <tr>\n",
              "      <th>0</th>\n",
              "      <td>5YJYGDEE1L</td>\n",
              "      <td>King</td>\n",
              "      <td>Seattle</td>\n",
              "      <td>WA</td>\n",
              "      <td>98122.0</td>\n",
              "      <td>2020</td>\n",
              "      <td>TESLA</td>\n",
              "      <td>MODEL Y</td>\n",
              "      <td>Battery Electric Vehicle (BEV)</td>\n",
              "      <td>Clean Alternative Fuel Vehicle Eligible</td>\n",
              "      <td>291</td>\n",
              "      <td>0</td>\n",
              "      <td>37.0</td>\n",
              "      <td>125701579</td>\n",
              "      <td>POINT (-122.30839 47.610365)</td>\n",
              "      <td>CITY OF SEATTLE - (WA)|CITY OF TACOMA - (WA)</td>\n",
              "      <td>5.303301e+10</td>\n",
              "    </tr>\n",
              "    <tr>\n",
              "      <th>1</th>\n",
              "      <td>7SAYGDEE9P</td>\n",
              "      <td>Snohomish</td>\n",
              "      <td>Bothell</td>\n",
              "      <td>WA</td>\n",
              "      <td>98021.0</td>\n",
              "      <td>2023</td>\n",
              "      <td>TESLA</td>\n",
              "      <td>MODEL Y</td>\n",
              "      <td>Battery Electric Vehicle (BEV)</td>\n",
              "      <td>Eligibility unknown as battery range has not b...</td>\n",
              "      <td>0</td>\n",
              "      <td>0</td>\n",
              "      <td>1.0</td>\n",
              "      <td>244285107</td>\n",
              "      <td>POINT (-122.179458 47.802589)</td>\n",
              "      <td>PUGET SOUND ENERGY INC</td>\n",
              "      <td>5.306105e+10</td>\n",
              "    </tr>\n",
              "    <tr>\n",
              "      <th>2</th>\n",
              "      <td>5YJSA1E4XK</td>\n",
              "      <td>King</td>\n",
              "      <td>Seattle</td>\n",
              "      <td>WA</td>\n",
              "      <td>98109.0</td>\n",
              "      <td>2019</td>\n",
              "      <td>TESLA</td>\n",
              "      <td>MODEL S</td>\n",
              "      <td>Battery Electric Vehicle (BEV)</td>\n",
              "      <td>Clean Alternative Fuel Vehicle Eligible</td>\n",
              "      <td>270</td>\n",
              "      <td>0</td>\n",
              "      <td>36.0</td>\n",
              "      <td>156773144</td>\n",
              "      <td>POINT (-122.34848 47.632405)</td>\n",
              "      <td>CITY OF SEATTLE - (WA)|CITY OF TACOMA - (WA)</td>\n",
              "      <td>5.303301e+10</td>\n",
              "    </tr>\n",
              "    <tr>\n",
              "      <th>3</th>\n",
              "      <td>5YJSA1E27G</td>\n",
              "      <td>King</td>\n",
              "      <td>Issaquah</td>\n",
              "      <td>WA</td>\n",
              "      <td>98027.0</td>\n",
              "      <td>2016</td>\n",
              "      <td>TESLA</td>\n",
              "      <td>MODEL S</td>\n",
              "      <td>Battery Electric Vehicle (BEV)</td>\n",
              "      <td>Clean Alternative Fuel Vehicle Eligible</td>\n",
              "      <td>210</td>\n",
              "      <td>0</td>\n",
              "      <td>5.0</td>\n",
              "      <td>165103011</td>\n",
              "      <td>POINT (-122.03646 47.534065)</td>\n",
              "      <td>PUGET SOUND ENERGY INC||CITY OF TACOMA - (WA)</td>\n",
              "      <td>5.303303e+10</td>\n",
              "    </tr>\n",
              "    <tr>\n",
              "      <th>4</th>\n",
              "      <td>5YJYGDEE5M</td>\n",
              "      <td>Kitsap</td>\n",
              "      <td>Suquamish</td>\n",
              "      <td>WA</td>\n",
              "      <td>98392.0</td>\n",
              "      <td>2021</td>\n",
              "      <td>TESLA</td>\n",
              "      <td>MODEL Y</td>\n",
              "      <td>Battery Electric Vehicle (BEV)</td>\n",
              "      <td>Eligibility unknown as battery range has not b...</td>\n",
              "      <td>0</td>\n",
              "      <td>0</td>\n",
              "      <td>23.0</td>\n",
              "      <td>205138552</td>\n",
              "      <td>POINT (-122.55717 47.733415)</td>\n",
              "      <td>PUGET SOUND ENERGY INC</td>\n",
              "      <td>5.303594e+10</td>\n",
              "    </tr>\n",
              "  </tbody>\n",
              "</table>\n",
              "</div>\n",
              "    <div class=\"colab-df-buttons\">\n",
              "\n",
              "  <div class=\"colab-df-container\">\n",
              "    <button class=\"colab-df-convert\" onclick=\"convertToInteractive('df-f7e210fc-aa5d-4877-8bc6-fdd03825f871')\"\n",
              "            title=\"Convert this dataframe to an interactive table.\"\n",
              "            style=\"display:none;\">\n",
              "\n",
              "  <svg xmlns=\"http://www.w3.org/2000/svg\" height=\"24px\" viewBox=\"0 -960 960 960\">\n",
              "    <path d=\"M120-120v-720h720v720H120Zm60-500h600v-160H180v160Zm220 220h160v-160H400v160Zm0 220h160v-160H400v160ZM180-400h160v-160H180v160Zm440 0h160v-160H620v160ZM180-180h160v-160H180v160Zm440 0h160v-160H620v160Z\"/>\n",
              "  </svg>\n",
              "    </button>\n",
              "\n",
              "  <style>\n",
              "    .colab-df-container {\n",
              "      display:flex;\n",
              "      gap: 12px;\n",
              "    }\n",
              "\n",
              "    .colab-df-convert {\n",
              "      background-color: #E8F0FE;\n",
              "      border: none;\n",
              "      border-radius: 50%;\n",
              "      cursor: pointer;\n",
              "      display: none;\n",
              "      fill: #1967D2;\n",
              "      height: 32px;\n",
              "      padding: 0 0 0 0;\n",
              "      width: 32px;\n",
              "    }\n",
              "\n",
              "    .colab-df-convert:hover {\n",
              "      background-color: #E2EBFA;\n",
              "      box-shadow: 0px 1px 2px rgba(60, 64, 67, 0.3), 0px 1px 3px 1px rgba(60, 64, 67, 0.15);\n",
              "      fill: #174EA6;\n",
              "    }\n",
              "\n",
              "    .colab-df-buttons div {\n",
              "      margin-bottom: 4px;\n",
              "    }\n",
              "\n",
              "    [theme=dark] .colab-df-convert {\n",
              "      background-color: #3B4455;\n",
              "      fill: #D2E3FC;\n",
              "    }\n",
              "\n",
              "    [theme=dark] .colab-df-convert:hover {\n",
              "      background-color: #434B5C;\n",
              "      box-shadow: 0px 1px 3px 1px rgba(0, 0, 0, 0.15);\n",
              "      filter: drop-shadow(0px 1px 2px rgba(0, 0, 0, 0.3));\n",
              "      fill: #FFFFFF;\n",
              "    }\n",
              "  </style>\n",
              "\n",
              "    <script>\n",
              "      const buttonEl =\n",
              "        document.querySelector('#df-f7e210fc-aa5d-4877-8bc6-fdd03825f871 button.colab-df-convert');\n",
              "      buttonEl.style.display =\n",
              "        google.colab.kernel.accessAllowed ? 'block' : 'none';\n",
              "\n",
              "      async function convertToInteractive(key) {\n",
              "        const element = document.querySelector('#df-f7e210fc-aa5d-4877-8bc6-fdd03825f871');\n",
              "        const dataTable =\n",
              "          await google.colab.kernel.invokeFunction('convertToInteractive',\n",
              "                                                    [key], {});\n",
              "        if (!dataTable) return;\n",
              "\n",
              "        const docLinkHtml = 'Like what you see? Visit the ' +\n",
              "          '<a target=\"_blank\" href=https://colab.research.google.com/notebooks/data_table.ipynb>data table notebook</a>'\n",
              "          + ' to learn more about interactive tables.';\n",
              "        element.innerHTML = '';\n",
              "        dataTable['output_type'] = 'display_data';\n",
              "        await google.colab.output.renderOutput(dataTable, element);\n",
              "        const docLink = document.createElement('div');\n",
              "        docLink.innerHTML = docLinkHtml;\n",
              "        element.appendChild(docLink);\n",
              "      }\n",
              "    </script>\n",
              "  </div>\n",
              "\n",
              "\n",
              "<div id=\"df-f0bfda56-af03-42ee-a7ac-efc964d164cf\">\n",
              "  <button class=\"colab-df-quickchart\" onclick=\"quickchart('df-f0bfda56-af03-42ee-a7ac-efc964d164cf')\"\n",
              "            title=\"Suggest charts\"\n",
              "            style=\"display:none;\">\n",
              "\n",
              "<svg xmlns=\"http://www.w3.org/2000/svg\" height=\"24px\"viewBox=\"0 0 24 24\"\n",
              "     width=\"24px\">\n",
              "    <g>\n",
              "        <path d=\"M19 3H5c-1.1 0-2 .9-2 2v14c0 1.1.9 2 2 2h14c1.1 0 2-.9 2-2V5c0-1.1-.9-2-2-2zM9 17H7v-7h2v7zm4 0h-2V7h2v10zm4 0h-2v-4h2v4z\"/>\n",
              "    </g>\n",
              "</svg>\n",
              "  </button>\n",
              "\n",
              "<style>\n",
              "  .colab-df-quickchart {\n",
              "      --bg-color: #E8F0FE;\n",
              "      --fill-color: #1967D2;\n",
              "      --hover-bg-color: #E2EBFA;\n",
              "      --hover-fill-color: #174EA6;\n",
              "      --disabled-fill-color: #AAA;\n",
              "      --disabled-bg-color: #DDD;\n",
              "  }\n",
              "\n",
              "  [theme=dark] .colab-df-quickchart {\n",
              "      --bg-color: #3B4455;\n",
              "      --fill-color: #D2E3FC;\n",
              "      --hover-bg-color: #434B5C;\n",
              "      --hover-fill-color: #FFFFFF;\n",
              "      --disabled-bg-color: #3B4455;\n",
              "      --disabled-fill-color: #666;\n",
              "  }\n",
              "\n",
              "  .colab-df-quickchart {\n",
              "    background-color: var(--bg-color);\n",
              "    border: none;\n",
              "    border-radius: 50%;\n",
              "    cursor: pointer;\n",
              "    display: none;\n",
              "    fill: var(--fill-color);\n",
              "    height: 32px;\n",
              "    padding: 0;\n",
              "    width: 32px;\n",
              "  }\n",
              "\n",
              "  .colab-df-quickchart:hover {\n",
              "    background-color: var(--hover-bg-color);\n",
              "    box-shadow: 0 1px 2px rgba(60, 64, 67, 0.3), 0 1px 3px 1px rgba(60, 64, 67, 0.15);\n",
              "    fill: var(--button-hover-fill-color);\n",
              "  }\n",
              "\n",
              "  .colab-df-quickchart-complete:disabled,\n",
              "  .colab-df-quickchart-complete:disabled:hover {\n",
              "    background-color: var(--disabled-bg-color);\n",
              "    fill: var(--disabled-fill-color);\n",
              "    box-shadow: none;\n",
              "  }\n",
              "\n",
              "  .colab-df-spinner {\n",
              "    border: 2px solid var(--fill-color);\n",
              "    border-color: transparent;\n",
              "    border-bottom-color: var(--fill-color);\n",
              "    animation:\n",
              "      spin 1s steps(1) infinite;\n",
              "  }\n",
              "\n",
              "  @keyframes spin {\n",
              "    0% {\n",
              "      border-color: transparent;\n",
              "      border-bottom-color: var(--fill-color);\n",
              "      border-left-color: var(--fill-color);\n",
              "    }\n",
              "    20% {\n",
              "      border-color: transparent;\n",
              "      border-left-color: var(--fill-color);\n",
              "      border-top-color: var(--fill-color);\n",
              "    }\n",
              "    30% {\n",
              "      border-color: transparent;\n",
              "      border-left-color: var(--fill-color);\n",
              "      border-top-color: var(--fill-color);\n",
              "      border-right-color: var(--fill-color);\n",
              "    }\n",
              "    40% {\n",
              "      border-color: transparent;\n",
              "      border-right-color: var(--fill-color);\n",
              "      border-top-color: var(--fill-color);\n",
              "    }\n",
              "    60% {\n",
              "      border-color: transparent;\n",
              "      border-right-color: var(--fill-color);\n",
              "    }\n",
              "    80% {\n",
              "      border-color: transparent;\n",
              "      border-right-color: var(--fill-color);\n",
              "      border-bottom-color: var(--fill-color);\n",
              "    }\n",
              "    90% {\n",
              "      border-color: transparent;\n",
              "      border-bottom-color: var(--fill-color);\n",
              "    }\n",
              "  }\n",
              "</style>\n",
              "\n",
              "  <script>\n",
              "    async function quickchart(key) {\n",
              "      const quickchartButtonEl =\n",
              "        document.querySelector('#' + key + ' button');\n",
              "      quickchartButtonEl.disabled = true;  // To prevent multiple clicks.\n",
              "      quickchartButtonEl.classList.add('colab-df-spinner');\n",
              "      try {\n",
              "        const charts = await google.colab.kernel.invokeFunction(\n",
              "            'suggestCharts', [key], {});\n",
              "      } catch (error) {\n",
              "        console.error('Error during call to suggestCharts:', error);\n",
              "      }\n",
              "      quickchartButtonEl.classList.remove('colab-df-spinner');\n",
              "      quickchartButtonEl.classList.add('colab-df-quickchart-complete');\n",
              "    }\n",
              "    (() => {\n",
              "      let quickchartButtonEl =\n",
              "        document.querySelector('#df-f0bfda56-af03-42ee-a7ac-efc964d164cf button');\n",
              "      quickchartButtonEl.style.display =\n",
              "        google.colab.kernel.accessAllowed ? 'block' : 'none';\n",
              "    })();\n",
              "  </script>\n",
              "</div>\n",
              "\n",
              "    </div>\n",
              "  </div>\n"
            ],
            "application/vnd.google.colaboratory.intrinsic+json": {
              "type": "dataframe",
              "variable_name": "ev_data"
            }
          },
          "metadata": {},
          "execution_count": 4
        }
      ]
    },
    {
      "cell_type": "markdown",
      "source": [
        "### View Data Bottom Rows"
      ],
      "metadata": {
        "id": "J_uTwvMI6Ymc"
      },
      "id": "J_uTwvMI6Ymc"
    },
    {
      "cell_type": "code",
      "source": [
        "ev_data.tail()"
      ],
      "metadata": {
        "colab": {
          "base_uri": "https://localhost:8080/",
          "height": 310
        },
        "id": "TvPYhDHz51NU",
        "outputId": "b82cda7e-8646-48de-b0c3-aa02b93e5976"
      },
      "id": "TvPYhDHz51NU",
      "execution_count": 5,
      "outputs": [
        {
          "output_type": "execute_result",
          "data": {
            "text/plain": [
              "        VIN (1-10)  County           City State  Postal Code  Model Year  \\\n",
              "177861  7SAYGDEE3N  Pierce    Bonney Lake    WA      98391.0        2022   \n",
              "177862  KM8K23AG1P   Mason        Shelton    WA      98584.0        2023   \n",
              "177863  5YJYGDEE6M   Grant         Quincy    WA      98848.0        2021   \n",
              "177864  WVGKMPE27M    King  Black Diamond    WA      98010.0        2021   \n",
              "177865  5YJ3E1EA8M  Pierce         Tacoma    WA      98422.0        2021   \n",
              "\n",
              "              Make          Model           Electric Vehicle Type  \\\n",
              "177861       TESLA        MODEL Y  Battery Electric Vehicle (BEV)   \n",
              "177862     HYUNDAI  KONA ELECTRIC  Battery Electric Vehicle (BEV)   \n",
              "177863       TESLA        MODEL Y  Battery Electric Vehicle (BEV)   \n",
              "177864  VOLKSWAGEN           ID.4  Battery Electric Vehicle (BEV)   \n",
              "177865       TESLA        MODEL 3  Battery Electric Vehicle (BEV)   \n",
              "\n",
              "        Clean Alternative Fuel Vehicle (CAFV) Eligibility  Electric Range  \\\n",
              "177861  Eligibility unknown as battery range has not b...               0   \n",
              "177862  Eligibility unknown as battery range has not b...               0   \n",
              "177863  Eligibility unknown as battery range has not b...               0   \n",
              "177864  Eligibility unknown as battery range has not b...               0   \n",
              "177865  Eligibility unknown as battery range has not b...               0   \n",
              "\n",
              "        Base MSRP  Legislative District  DOL Vehicle ID  \\\n",
              "177861          0                  31.0       195224452   \n",
              "177862          0                  35.0       228454180   \n",
              "177863          0                  13.0       168797219   \n",
              "177864          0                   5.0       182448801   \n",
              "177865          0                  27.0       211464683   \n",
              "\n",
              "                       Vehicle Location  \\\n",
              "177861     POINT (-122.183805 47.18062)   \n",
              "177862    POINT (-123.105305 47.211085)   \n",
              "177863  POINT (-119.8493873 47.2339933)   \n",
              "177864     POINT (-122.00451 47.312185)   \n",
              "177865      POINT (-122.38578 47.28971)   \n",
              "\n",
              "                                         Electric Utility  2020 Census Tract  \n",
              "177861      PUGET SOUND ENERGY INC||CITY OF TACOMA - (WA)       5.305307e+10  \n",
              "177862  BONNEVILLE POWER ADMINISTRATION||CITY OF TACOM...       5.304596e+10  \n",
              "177863                           PUD NO 2 OF GRANT COUNTY       5.302501e+10  \n",
              "177864      PUGET SOUND ENERGY INC||CITY OF TACOMA - (WA)       5.303303e+10  \n",
              "177865  BONNEVILLE POWER ADMINISTRATION||CITY OF TACOM...       5.305394e+10  "
            ],
            "text/html": [
              "\n",
              "  <div id=\"df-f1f5a03e-2d58-4d46-b732-801f95b4d7fa\" class=\"colab-df-container\">\n",
              "    <div>\n",
              "<style scoped>\n",
              "    .dataframe tbody tr th:only-of-type {\n",
              "        vertical-align: middle;\n",
              "    }\n",
              "\n",
              "    .dataframe tbody tr th {\n",
              "        vertical-align: top;\n",
              "    }\n",
              "\n",
              "    .dataframe thead th {\n",
              "        text-align: right;\n",
              "    }\n",
              "</style>\n",
              "<table border=\"1\" class=\"dataframe\">\n",
              "  <thead>\n",
              "    <tr style=\"text-align: right;\">\n",
              "      <th></th>\n",
              "      <th>VIN (1-10)</th>\n",
              "      <th>County</th>\n",
              "      <th>City</th>\n",
              "      <th>State</th>\n",
              "      <th>Postal Code</th>\n",
              "      <th>Model Year</th>\n",
              "      <th>Make</th>\n",
              "      <th>Model</th>\n",
              "      <th>Electric Vehicle Type</th>\n",
              "      <th>Clean Alternative Fuel Vehicle (CAFV) Eligibility</th>\n",
              "      <th>Electric Range</th>\n",
              "      <th>Base MSRP</th>\n",
              "      <th>Legislative District</th>\n",
              "      <th>DOL Vehicle ID</th>\n",
              "      <th>Vehicle Location</th>\n",
              "      <th>Electric Utility</th>\n",
              "      <th>2020 Census Tract</th>\n",
              "    </tr>\n",
              "  </thead>\n",
              "  <tbody>\n",
              "    <tr>\n",
              "      <th>177861</th>\n",
              "      <td>7SAYGDEE3N</td>\n",
              "      <td>Pierce</td>\n",
              "      <td>Bonney Lake</td>\n",
              "      <td>WA</td>\n",
              "      <td>98391.0</td>\n",
              "      <td>2022</td>\n",
              "      <td>TESLA</td>\n",
              "      <td>MODEL Y</td>\n",
              "      <td>Battery Electric Vehicle (BEV)</td>\n",
              "      <td>Eligibility unknown as battery range has not b...</td>\n",
              "      <td>0</td>\n",
              "      <td>0</td>\n",
              "      <td>31.0</td>\n",
              "      <td>195224452</td>\n",
              "      <td>POINT (-122.183805 47.18062)</td>\n",
              "      <td>PUGET SOUND ENERGY INC||CITY OF TACOMA - (WA)</td>\n",
              "      <td>5.305307e+10</td>\n",
              "    </tr>\n",
              "    <tr>\n",
              "      <th>177862</th>\n",
              "      <td>KM8K23AG1P</td>\n",
              "      <td>Mason</td>\n",
              "      <td>Shelton</td>\n",
              "      <td>WA</td>\n",
              "      <td>98584.0</td>\n",
              "      <td>2023</td>\n",
              "      <td>HYUNDAI</td>\n",
              "      <td>KONA ELECTRIC</td>\n",
              "      <td>Battery Electric Vehicle (BEV)</td>\n",
              "      <td>Eligibility unknown as battery range has not b...</td>\n",
              "      <td>0</td>\n",
              "      <td>0</td>\n",
              "      <td>35.0</td>\n",
              "      <td>228454180</td>\n",
              "      <td>POINT (-123.105305 47.211085)</td>\n",
              "      <td>BONNEVILLE POWER ADMINISTRATION||CITY OF TACOM...</td>\n",
              "      <td>5.304596e+10</td>\n",
              "    </tr>\n",
              "    <tr>\n",
              "      <th>177863</th>\n",
              "      <td>5YJYGDEE6M</td>\n",
              "      <td>Grant</td>\n",
              "      <td>Quincy</td>\n",
              "      <td>WA</td>\n",
              "      <td>98848.0</td>\n",
              "      <td>2021</td>\n",
              "      <td>TESLA</td>\n",
              "      <td>MODEL Y</td>\n",
              "      <td>Battery Electric Vehicle (BEV)</td>\n",
              "      <td>Eligibility unknown as battery range has not b...</td>\n",
              "      <td>0</td>\n",
              "      <td>0</td>\n",
              "      <td>13.0</td>\n",
              "      <td>168797219</td>\n",
              "      <td>POINT (-119.8493873 47.2339933)</td>\n",
              "      <td>PUD NO 2 OF GRANT COUNTY</td>\n",
              "      <td>5.302501e+10</td>\n",
              "    </tr>\n",
              "    <tr>\n",
              "      <th>177864</th>\n",
              "      <td>WVGKMPE27M</td>\n",
              "      <td>King</td>\n",
              "      <td>Black Diamond</td>\n",
              "      <td>WA</td>\n",
              "      <td>98010.0</td>\n",
              "      <td>2021</td>\n",
              "      <td>VOLKSWAGEN</td>\n",
              "      <td>ID.4</td>\n",
              "      <td>Battery Electric Vehicle (BEV)</td>\n",
              "      <td>Eligibility unknown as battery range has not b...</td>\n",
              "      <td>0</td>\n",
              "      <td>0</td>\n",
              "      <td>5.0</td>\n",
              "      <td>182448801</td>\n",
              "      <td>POINT (-122.00451 47.312185)</td>\n",
              "      <td>PUGET SOUND ENERGY INC||CITY OF TACOMA - (WA)</td>\n",
              "      <td>5.303303e+10</td>\n",
              "    </tr>\n",
              "    <tr>\n",
              "      <th>177865</th>\n",
              "      <td>5YJ3E1EA8M</td>\n",
              "      <td>Pierce</td>\n",
              "      <td>Tacoma</td>\n",
              "      <td>WA</td>\n",
              "      <td>98422.0</td>\n",
              "      <td>2021</td>\n",
              "      <td>TESLA</td>\n",
              "      <td>MODEL 3</td>\n",
              "      <td>Battery Electric Vehicle (BEV)</td>\n",
              "      <td>Eligibility unknown as battery range has not b...</td>\n",
              "      <td>0</td>\n",
              "      <td>0</td>\n",
              "      <td>27.0</td>\n",
              "      <td>211464683</td>\n",
              "      <td>POINT (-122.38578 47.28971)</td>\n",
              "      <td>BONNEVILLE POWER ADMINISTRATION||CITY OF TACOM...</td>\n",
              "      <td>5.305394e+10</td>\n",
              "    </tr>\n",
              "  </tbody>\n",
              "</table>\n",
              "</div>\n",
              "    <div class=\"colab-df-buttons\">\n",
              "\n",
              "  <div class=\"colab-df-container\">\n",
              "    <button class=\"colab-df-convert\" onclick=\"convertToInteractive('df-f1f5a03e-2d58-4d46-b732-801f95b4d7fa')\"\n",
              "            title=\"Convert this dataframe to an interactive table.\"\n",
              "            style=\"display:none;\">\n",
              "\n",
              "  <svg xmlns=\"http://www.w3.org/2000/svg\" height=\"24px\" viewBox=\"0 -960 960 960\">\n",
              "    <path d=\"M120-120v-720h720v720H120Zm60-500h600v-160H180v160Zm220 220h160v-160H400v160Zm0 220h160v-160H400v160ZM180-400h160v-160H180v160Zm440 0h160v-160H620v160ZM180-180h160v-160H180v160Zm440 0h160v-160H620v160Z\"/>\n",
              "  </svg>\n",
              "    </button>\n",
              "\n",
              "  <style>\n",
              "    .colab-df-container {\n",
              "      display:flex;\n",
              "      gap: 12px;\n",
              "    }\n",
              "\n",
              "    .colab-df-convert {\n",
              "      background-color: #E8F0FE;\n",
              "      border: none;\n",
              "      border-radius: 50%;\n",
              "      cursor: pointer;\n",
              "      display: none;\n",
              "      fill: #1967D2;\n",
              "      height: 32px;\n",
              "      padding: 0 0 0 0;\n",
              "      width: 32px;\n",
              "    }\n",
              "\n",
              "    .colab-df-convert:hover {\n",
              "      background-color: #E2EBFA;\n",
              "      box-shadow: 0px 1px 2px rgba(60, 64, 67, 0.3), 0px 1px 3px 1px rgba(60, 64, 67, 0.15);\n",
              "      fill: #174EA6;\n",
              "    }\n",
              "\n",
              "    .colab-df-buttons div {\n",
              "      margin-bottom: 4px;\n",
              "    }\n",
              "\n",
              "    [theme=dark] .colab-df-convert {\n",
              "      background-color: #3B4455;\n",
              "      fill: #D2E3FC;\n",
              "    }\n",
              "\n",
              "    [theme=dark] .colab-df-convert:hover {\n",
              "      background-color: #434B5C;\n",
              "      box-shadow: 0px 1px 3px 1px rgba(0, 0, 0, 0.15);\n",
              "      filter: drop-shadow(0px 1px 2px rgba(0, 0, 0, 0.3));\n",
              "      fill: #FFFFFF;\n",
              "    }\n",
              "  </style>\n",
              "\n",
              "    <script>\n",
              "      const buttonEl =\n",
              "        document.querySelector('#df-f1f5a03e-2d58-4d46-b732-801f95b4d7fa button.colab-df-convert');\n",
              "      buttonEl.style.display =\n",
              "        google.colab.kernel.accessAllowed ? 'block' : 'none';\n",
              "\n",
              "      async function convertToInteractive(key) {\n",
              "        const element = document.querySelector('#df-f1f5a03e-2d58-4d46-b732-801f95b4d7fa');\n",
              "        const dataTable =\n",
              "          await google.colab.kernel.invokeFunction('convertToInteractive',\n",
              "                                                    [key], {});\n",
              "        if (!dataTable) return;\n",
              "\n",
              "        const docLinkHtml = 'Like what you see? Visit the ' +\n",
              "          '<a target=\"_blank\" href=https://colab.research.google.com/notebooks/data_table.ipynb>data table notebook</a>'\n",
              "          + ' to learn more about interactive tables.';\n",
              "        element.innerHTML = '';\n",
              "        dataTable['output_type'] = 'display_data';\n",
              "        await google.colab.output.renderOutput(dataTable, element);\n",
              "        const docLink = document.createElement('div');\n",
              "        docLink.innerHTML = docLinkHtml;\n",
              "        element.appendChild(docLink);\n",
              "      }\n",
              "    </script>\n",
              "  </div>\n",
              "\n",
              "\n",
              "<div id=\"df-c589af65-e03e-4345-8504-bd02e3a1ec7f\">\n",
              "  <button class=\"colab-df-quickchart\" onclick=\"quickchart('df-c589af65-e03e-4345-8504-bd02e3a1ec7f')\"\n",
              "            title=\"Suggest charts\"\n",
              "            style=\"display:none;\">\n",
              "\n",
              "<svg xmlns=\"http://www.w3.org/2000/svg\" height=\"24px\"viewBox=\"0 0 24 24\"\n",
              "     width=\"24px\">\n",
              "    <g>\n",
              "        <path d=\"M19 3H5c-1.1 0-2 .9-2 2v14c0 1.1.9 2 2 2h14c1.1 0 2-.9 2-2V5c0-1.1-.9-2-2-2zM9 17H7v-7h2v7zm4 0h-2V7h2v10zm4 0h-2v-4h2v4z\"/>\n",
              "    </g>\n",
              "</svg>\n",
              "  </button>\n",
              "\n",
              "<style>\n",
              "  .colab-df-quickchart {\n",
              "      --bg-color: #E8F0FE;\n",
              "      --fill-color: #1967D2;\n",
              "      --hover-bg-color: #E2EBFA;\n",
              "      --hover-fill-color: #174EA6;\n",
              "      --disabled-fill-color: #AAA;\n",
              "      --disabled-bg-color: #DDD;\n",
              "  }\n",
              "\n",
              "  [theme=dark] .colab-df-quickchart {\n",
              "      --bg-color: #3B4455;\n",
              "      --fill-color: #D2E3FC;\n",
              "      --hover-bg-color: #434B5C;\n",
              "      --hover-fill-color: #FFFFFF;\n",
              "      --disabled-bg-color: #3B4455;\n",
              "      --disabled-fill-color: #666;\n",
              "  }\n",
              "\n",
              "  .colab-df-quickchart {\n",
              "    background-color: var(--bg-color);\n",
              "    border: none;\n",
              "    border-radius: 50%;\n",
              "    cursor: pointer;\n",
              "    display: none;\n",
              "    fill: var(--fill-color);\n",
              "    height: 32px;\n",
              "    padding: 0;\n",
              "    width: 32px;\n",
              "  }\n",
              "\n",
              "  .colab-df-quickchart:hover {\n",
              "    background-color: var(--hover-bg-color);\n",
              "    box-shadow: 0 1px 2px rgba(60, 64, 67, 0.3), 0 1px 3px 1px rgba(60, 64, 67, 0.15);\n",
              "    fill: var(--button-hover-fill-color);\n",
              "  }\n",
              "\n",
              "  .colab-df-quickchart-complete:disabled,\n",
              "  .colab-df-quickchart-complete:disabled:hover {\n",
              "    background-color: var(--disabled-bg-color);\n",
              "    fill: var(--disabled-fill-color);\n",
              "    box-shadow: none;\n",
              "  }\n",
              "\n",
              "  .colab-df-spinner {\n",
              "    border: 2px solid var(--fill-color);\n",
              "    border-color: transparent;\n",
              "    border-bottom-color: var(--fill-color);\n",
              "    animation:\n",
              "      spin 1s steps(1) infinite;\n",
              "  }\n",
              "\n",
              "  @keyframes spin {\n",
              "    0% {\n",
              "      border-color: transparent;\n",
              "      border-bottom-color: var(--fill-color);\n",
              "      border-left-color: var(--fill-color);\n",
              "    }\n",
              "    20% {\n",
              "      border-color: transparent;\n",
              "      border-left-color: var(--fill-color);\n",
              "      border-top-color: var(--fill-color);\n",
              "    }\n",
              "    30% {\n",
              "      border-color: transparent;\n",
              "      border-left-color: var(--fill-color);\n",
              "      border-top-color: var(--fill-color);\n",
              "      border-right-color: var(--fill-color);\n",
              "    }\n",
              "    40% {\n",
              "      border-color: transparent;\n",
              "      border-right-color: var(--fill-color);\n",
              "      border-top-color: var(--fill-color);\n",
              "    }\n",
              "    60% {\n",
              "      border-color: transparent;\n",
              "      border-right-color: var(--fill-color);\n",
              "    }\n",
              "    80% {\n",
              "      border-color: transparent;\n",
              "      border-right-color: var(--fill-color);\n",
              "      border-bottom-color: var(--fill-color);\n",
              "    }\n",
              "    90% {\n",
              "      border-color: transparent;\n",
              "      border-bottom-color: var(--fill-color);\n",
              "    }\n",
              "  }\n",
              "</style>\n",
              "\n",
              "  <script>\n",
              "    async function quickchart(key) {\n",
              "      const quickchartButtonEl =\n",
              "        document.querySelector('#' + key + ' button');\n",
              "      quickchartButtonEl.disabled = true;  // To prevent multiple clicks.\n",
              "      quickchartButtonEl.classList.add('colab-df-spinner');\n",
              "      try {\n",
              "        const charts = await google.colab.kernel.invokeFunction(\n",
              "            'suggestCharts', [key], {});\n",
              "      } catch (error) {\n",
              "        console.error('Error during call to suggestCharts:', error);\n",
              "      }\n",
              "      quickchartButtonEl.classList.remove('colab-df-spinner');\n",
              "      quickchartButtonEl.classList.add('colab-df-quickchart-complete');\n",
              "    }\n",
              "    (() => {\n",
              "      let quickchartButtonEl =\n",
              "        document.querySelector('#df-c589af65-e03e-4345-8504-bd02e3a1ec7f button');\n",
              "      quickchartButtonEl.style.display =\n",
              "        google.colab.kernel.accessAllowed ? 'block' : 'none';\n",
              "    })();\n",
              "  </script>\n",
              "</div>\n",
              "\n",
              "    </div>\n",
              "  </div>\n"
            ],
            "application/vnd.google.colaboratory.intrinsic+json": {
              "type": "dataframe",
              "summary": "{\n  \"name\": \"ev_data\",\n  \"rows\": 5,\n  \"fields\": [\n    {\n      \"column\": \"VIN (1-10)\",\n      \"properties\": {\n        \"dtype\": \"string\",\n        \"num_unique_values\": 5,\n        \"samples\": [\n          \"KM8K23AG1P\",\n          \"5YJ3E1EA8M\",\n          \"5YJYGDEE6M\"\n        ],\n        \"semantic_type\": \"\",\n        \"description\": \"\"\n      }\n    },\n    {\n      \"column\": \"County\",\n      \"properties\": {\n        \"dtype\": \"string\",\n        \"num_unique_values\": 4,\n        \"samples\": [\n          \"Mason\",\n          \"King\",\n          \"Pierce\"\n        ],\n        \"semantic_type\": \"\",\n        \"description\": \"\"\n      }\n    },\n    {\n      \"column\": \"City\",\n      \"properties\": {\n        \"dtype\": \"string\",\n        \"num_unique_values\": 5,\n        \"samples\": [\n          \"Shelton\",\n          \"Tacoma\",\n          \"Quincy\"\n        ],\n        \"semantic_type\": \"\",\n        \"description\": \"\"\n      }\n    },\n    {\n      \"column\": \"State\",\n      \"properties\": {\n        \"dtype\": \"category\",\n        \"num_unique_values\": 1,\n        \"samples\": [\n          \"WA\"\n        ],\n        \"semantic_type\": \"\",\n        \"description\": \"\"\n      }\n    },\n    {\n      \"column\": \"Postal Code\",\n      \"properties\": {\n        \"dtype\": \"number\",\n        \"std\": 305.8676184233957,\n        \"min\": 98010.0,\n        \"max\": 98848.0,\n        \"num_unique_values\": 5,\n        \"samples\": [\n          98584.0\n        ],\n        \"semantic_type\": \"\",\n        \"description\": \"\"\n      }\n    },\n    {\n      \"column\": \"Model Year\",\n      \"properties\": {\n        \"dtype\": \"number\",\n        \"std\": 0,\n        \"min\": 2021,\n        \"max\": 2023,\n        \"num_unique_values\": 3,\n        \"samples\": [\n          2022\n        ],\n        \"semantic_type\": \"\",\n        \"description\": \"\"\n      }\n    },\n    {\n      \"column\": \"Make\",\n      \"properties\": {\n        \"dtype\": \"string\",\n        \"num_unique_values\": 3,\n        \"samples\": [\n          \"TESLA\"\n        ],\n        \"semantic_type\": \"\",\n        \"description\": \"\"\n      }\n    },\n    {\n      \"column\": \"Model\",\n      \"properties\": {\n        \"dtype\": \"string\",\n        \"num_unique_values\": 4,\n        \"samples\": [\n          \"KONA ELECTRIC\"\n        ],\n        \"semantic_type\": \"\",\n        \"description\": \"\"\n      }\n    },\n    {\n      \"column\": \"Electric Vehicle Type\",\n      \"properties\": {\n        \"dtype\": \"category\",\n        \"num_unique_values\": 1,\n        \"samples\": [\n          \"Battery Electric Vehicle (BEV)\"\n        ],\n        \"semantic_type\": \"\",\n        \"description\": \"\"\n      }\n    },\n    {\n      \"column\": \"Clean Alternative Fuel Vehicle (CAFV) Eligibility\",\n      \"properties\": {\n        \"dtype\": \"category\",\n        \"num_unique_values\": 1,\n        \"samples\": [\n          \"Eligibility unknown as battery range has not been researched\"\n        ],\n        \"semantic_type\": \"\",\n        \"description\": \"\"\n      }\n    },\n    {\n      \"column\": \"Electric Range\",\n      \"properties\": {\n        \"dtype\": \"number\",\n        \"std\": 0,\n        \"min\": 0,\n        \"max\": 0,\n        \"num_unique_values\": 1,\n        \"samples\": [\n          0\n        ],\n        \"semantic_type\": \"\",\n        \"description\": \"\"\n      }\n    },\n    {\n      \"column\": \"Base MSRP\",\n      \"properties\": {\n        \"dtype\": \"number\",\n        \"std\": 0,\n        \"min\": 0,\n        \"max\": 0,\n        \"num_unique_values\": 1,\n        \"samples\": [\n          0\n        ],\n        \"semantic_type\": \"\",\n        \"description\": \"\"\n      }\n    },\n    {\n      \"column\": \"Legislative District\",\n      \"properties\": {\n        \"dtype\": \"number\",\n        \"std\": 12.696456198483101,\n        \"min\": 5.0,\n        \"max\": 35.0,\n        \"num_unique_values\": 5,\n        \"samples\": [\n          35.0\n        ],\n        \"semantic_type\": \"\",\n        \"description\": \"\"\n      }\n    },\n    {\n      \"column\": \"DOL Vehicle ID\",\n      \"properties\": {\n        \"dtype\": \"number\",\n        \"std\": 23497304,\n        \"min\": 168797219,\n        \"max\": 228454180,\n        \"num_unique_values\": 5,\n        \"samples\": [\n          228454180\n        ],\n        \"semantic_type\": \"\",\n        \"description\": \"\"\n      }\n    },\n    {\n      \"column\": \"Vehicle Location\",\n      \"properties\": {\n        \"dtype\": \"string\",\n        \"num_unique_values\": 5,\n        \"samples\": [\n          \"POINT (-123.105305 47.211085)\"\n        ],\n        \"semantic_type\": \"\",\n        \"description\": \"\"\n      }\n    },\n    {\n      \"column\": \"Electric Utility\",\n      \"properties\": {\n        \"dtype\": \"string\",\n        \"num_unique_values\": 4,\n        \"samples\": [\n          \"BONNEVILLE POWER ADMINISTRATION||CITY OF TACOMA - (WA)||PUD NO 3 OF MASON COUNTY\"\n        ],\n        \"semantic_type\": \"\",\n        \"description\": \"\"\n      }\n    },\n    {\n      \"column\": \"2020 Census Tract\",\n      \"properties\": {\n        \"dtype\": \"number\",\n        \"std\": 12744352.284064172,\n        \"min\": 53025010500.0,\n        \"max\": 53053940005.0,\n        \"num_unique_values\": 5,\n        \"samples\": [\n          53045960900.0\n        ],\n        \"semantic_type\": \"\",\n        \"description\": \"\"\n      }\n    }\n  ]\n}"
            }
          },
          "metadata": {},
          "execution_count": 5
        }
      ]
    },
    {
      "cell_type": "markdown",
      "id": "1547ccc0-3f4a-4c11-95b5-91508f1833d1",
      "metadata": {
        "id": "1547ccc0-3f4a-4c11-95b5-91508f1833d1"
      },
      "source": [
        "So, this data is based on the EV population in the United States. Now, let’s clean the dataset before moving forward:"
      ]
    },
    {
      "cell_type": "code",
      "execution_count": 6,
      "id": "de0c4df2-926f-42b7-8a17-1251049820c1",
      "metadata": {
        "colab": {
          "base_uri": "https://localhost:8080/"
        },
        "id": "de0c4df2-926f-42b7-8a17-1251049820c1",
        "outputId": "d60eb08c-2fd2-4473-b671-8ff8462a427e"
      },
      "outputs": [
        {
          "output_type": "stream",
          "name": "stdout",
          "text": [
            "<class 'pandas.core.frame.DataFrame'>\n",
            "RangeIndex: 177866 entries, 0 to 177865\n",
            "Data columns (total 17 columns):\n",
            " #   Column                                             Non-Null Count   Dtype  \n",
            "---  ------                                             --------------   -----  \n",
            " 0   VIN (1-10)                                         177866 non-null  object \n",
            " 1   County                                             177861 non-null  object \n",
            " 2   City                                               177861 non-null  object \n",
            " 3   State                                              177866 non-null  object \n",
            " 4   Postal Code                                        177861 non-null  float64\n",
            " 5   Model Year                                         177866 non-null  int64  \n",
            " 6   Make                                               177866 non-null  object \n",
            " 7   Model                                              177866 non-null  object \n",
            " 8   Electric Vehicle Type                              177866 non-null  object \n",
            " 9   Clean Alternative Fuel Vehicle (CAFV) Eligibility  177866 non-null  object \n",
            " 10  Electric Range                                     177866 non-null  int64  \n",
            " 11  Base MSRP                                          177866 non-null  int64  \n",
            " 12  Legislative District                               177477 non-null  float64\n",
            " 13  DOL Vehicle ID                                     177866 non-null  int64  \n",
            " 14  Vehicle Location                                   177857 non-null  object \n",
            " 15  Electric Utility                                   177861 non-null  object \n",
            " 16  2020 Census Tract                                  177861 non-null  float64\n",
            "dtypes: float64(3), int64(4), object(10)\n",
            "memory usage: 23.1+ MB\n"
          ]
        }
      ],
      "source": [
        "ev_data.info()"
      ]
    },
    {
      "cell_type": "markdown",
      "source": [
        "### Are there missing data?"
      ],
      "metadata": {
        "id": "DM0mRUuw7mFP"
      },
      "id": "DM0mRUuw7mFP"
    },
    {
      "cell_type": "code",
      "source": [
        "def display_missing_data_count(df_):\n",
        "    \"\"\"\n",
        "    returns df of missing columns, value count and percentage of missing values\n",
        "    `df_`: Pandas DataFrame\n",
        "    \"\"\"\n",
        "    import pandas as pd\n",
        "    null_columns_df = pd.DataFrame(df_.isnull().sum()[df_.isnull().sum() > 0], columns=['value_count'])\n",
        "    null_columns_df['%'] = (null_columns_df['value_count']/df_.shape[0]) * 100\n",
        "    null_columns_df.sort_values(by=['value_count'], ascending=False, inplace=True)\n",
        "    if len(null_columns_df):\n",
        "        msg = f'There are {null_columns_df.shape[0]} column(s) with null values'\n",
        "        print(\"-\" * 20, msg, \"-\" * 20, sep='\\n')\n",
        "        return null_columns_df\n",
        "    else:\n",
        "        print(\"You supplied blank DataFrame...\")"
      ],
      "metadata": {
        "id": "_e0Lxt7k6mbl"
      },
      "id": "_e0Lxt7k6mbl",
      "execution_count": 7,
      "outputs": []
    },
    {
      "cell_type": "code",
      "execution_count": 8,
      "id": "699debef-0f1e-4cdc-8306-83ded8f0fca3",
      "metadata": {
        "colab": {
          "base_uri": "https://localhost:8080/",
          "height": 321
        },
        "id": "699debef-0f1e-4cdc-8306-83ded8f0fca3",
        "outputId": "8381ff29-bac7-4f7b-ebe3-149da508773e"
      },
      "outputs": [
        {
          "output_type": "stream",
          "name": "stdout",
          "text": [
            "--------------------\n",
            "There are 7 column(s) with null values\n",
            "--------------------\n"
          ]
        },
        {
          "output_type": "execute_result",
          "data": {
            "text/plain": [
              "                      value_count         %\n",
              "Legislative District          389  0.218704\n",
              "Vehicle Location                9  0.005060\n",
              "County                          5  0.002811\n",
              "City                            5  0.002811\n",
              "Postal Code                     5  0.002811\n",
              "Electric Utility                5  0.002811\n",
              "2020 Census Tract               5  0.002811"
            ],
            "text/html": [
              "\n",
              "  <div id=\"df-65553ae7-fee0-4f64-808d-c28b1d1b167e\" class=\"colab-df-container\">\n",
              "    <div>\n",
              "<style scoped>\n",
              "    .dataframe tbody tr th:only-of-type {\n",
              "        vertical-align: middle;\n",
              "    }\n",
              "\n",
              "    .dataframe tbody tr th {\n",
              "        vertical-align: top;\n",
              "    }\n",
              "\n",
              "    .dataframe thead th {\n",
              "        text-align: right;\n",
              "    }\n",
              "</style>\n",
              "<table border=\"1\" class=\"dataframe\">\n",
              "  <thead>\n",
              "    <tr style=\"text-align: right;\">\n",
              "      <th></th>\n",
              "      <th>value_count</th>\n",
              "      <th>%</th>\n",
              "    </tr>\n",
              "  </thead>\n",
              "  <tbody>\n",
              "    <tr>\n",
              "      <th>Legislative District</th>\n",
              "      <td>389</td>\n",
              "      <td>0.218704</td>\n",
              "    </tr>\n",
              "    <tr>\n",
              "      <th>Vehicle Location</th>\n",
              "      <td>9</td>\n",
              "      <td>0.005060</td>\n",
              "    </tr>\n",
              "    <tr>\n",
              "      <th>County</th>\n",
              "      <td>5</td>\n",
              "      <td>0.002811</td>\n",
              "    </tr>\n",
              "    <tr>\n",
              "      <th>City</th>\n",
              "      <td>5</td>\n",
              "      <td>0.002811</td>\n",
              "    </tr>\n",
              "    <tr>\n",
              "      <th>Postal Code</th>\n",
              "      <td>5</td>\n",
              "      <td>0.002811</td>\n",
              "    </tr>\n",
              "    <tr>\n",
              "      <th>Electric Utility</th>\n",
              "      <td>5</td>\n",
              "      <td>0.002811</td>\n",
              "    </tr>\n",
              "    <tr>\n",
              "      <th>2020 Census Tract</th>\n",
              "      <td>5</td>\n",
              "      <td>0.002811</td>\n",
              "    </tr>\n",
              "  </tbody>\n",
              "</table>\n",
              "</div>\n",
              "    <div class=\"colab-df-buttons\">\n",
              "\n",
              "  <div class=\"colab-df-container\">\n",
              "    <button class=\"colab-df-convert\" onclick=\"convertToInteractive('df-65553ae7-fee0-4f64-808d-c28b1d1b167e')\"\n",
              "            title=\"Convert this dataframe to an interactive table.\"\n",
              "            style=\"display:none;\">\n",
              "\n",
              "  <svg xmlns=\"http://www.w3.org/2000/svg\" height=\"24px\" viewBox=\"0 -960 960 960\">\n",
              "    <path d=\"M120-120v-720h720v720H120Zm60-500h600v-160H180v160Zm220 220h160v-160H400v160Zm0 220h160v-160H400v160ZM180-400h160v-160H180v160Zm440 0h160v-160H620v160ZM180-180h160v-160H180v160Zm440 0h160v-160H620v160Z\"/>\n",
              "  </svg>\n",
              "    </button>\n",
              "\n",
              "  <style>\n",
              "    .colab-df-container {\n",
              "      display:flex;\n",
              "      gap: 12px;\n",
              "    }\n",
              "\n",
              "    .colab-df-convert {\n",
              "      background-color: #E8F0FE;\n",
              "      border: none;\n",
              "      border-radius: 50%;\n",
              "      cursor: pointer;\n",
              "      display: none;\n",
              "      fill: #1967D2;\n",
              "      height: 32px;\n",
              "      padding: 0 0 0 0;\n",
              "      width: 32px;\n",
              "    }\n",
              "\n",
              "    .colab-df-convert:hover {\n",
              "      background-color: #E2EBFA;\n",
              "      box-shadow: 0px 1px 2px rgba(60, 64, 67, 0.3), 0px 1px 3px 1px rgba(60, 64, 67, 0.15);\n",
              "      fill: #174EA6;\n",
              "    }\n",
              "\n",
              "    .colab-df-buttons div {\n",
              "      margin-bottom: 4px;\n",
              "    }\n",
              "\n",
              "    [theme=dark] .colab-df-convert {\n",
              "      background-color: #3B4455;\n",
              "      fill: #D2E3FC;\n",
              "    }\n",
              "\n",
              "    [theme=dark] .colab-df-convert:hover {\n",
              "      background-color: #434B5C;\n",
              "      box-shadow: 0px 1px 3px 1px rgba(0, 0, 0, 0.15);\n",
              "      filter: drop-shadow(0px 1px 2px rgba(0, 0, 0, 0.3));\n",
              "      fill: #FFFFFF;\n",
              "    }\n",
              "  </style>\n",
              "\n",
              "    <script>\n",
              "      const buttonEl =\n",
              "        document.querySelector('#df-65553ae7-fee0-4f64-808d-c28b1d1b167e button.colab-df-convert');\n",
              "      buttonEl.style.display =\n",
              "        google.colab.kernel.accessAllowed ? 'block' : 'none';\n",
              "\n",
              "      async function convertToInteractive(key) {\n",
              "        const element = document.querySelector('#df-65553ae7-fee0-4f64-808d-c28b1d1b167e');\n",
              "        const dataTable =\n",
              "          await google.colab.kernel.invokeFunction('convertToInteractive',\n",
              "                                                    [key], {});\n",
              "        if (!dataTable) return;\n",
              "\n",
              "        const docLinkHtml = 'Like what you see? Visit the ' +\n",
              "          '<a target=\"_blank\" href=https://colab.research.google.com/notebooks/data_table.ipynb>data table notebook</a>'\n",
              "          + ' to learn more about interactive tables.';\n",
              "        element.innerHTML = '';\n",
              "        dataTable['output_type'] = 'display_data';\n",
              "        await google.colab.output.renderOutput(dataTable, element);\n",
              "        const docLink = document.createElement('div');\n",
              "        docLink.innerHTML = docLinkHtml;\n",
              "        element.appendChild(docLink);\n",
              "      }\n",
              "    </script>\n",
              "  </div>\n",
              "\n",
              "\n",
              "<div id=\"df-8c313507-3132-4c67-be4c-78dfac08848e\">\n",
              "  <button class=\"colab-df-quickchart\" onclick=\"quickchart('df-8c313507-3132-4c67-be4c-78dfac08848e')\"\n",
              "            title=\"Suggest charts\"\n",
              "            style=\"display:none;\">\n",
              "\n",
              "<svg xmlns=\"http://www.w3.org/2000/svg\" height=\"24px\"viewBox=\"0 0 24 24\"\n",
              "     width=\"24px\">\n",
              "    <g>\n",
              "        <path d=\"M19 3H5c-1.1 0-2 .9-2 2v14c0 1.1.9 2 2 2h14c1.1 0 2-.9 2-2V5c0-1.1-.9-2-2-2zM9 17H7v-7h2v7zm4 0h-2V7h2v10zm4 0h-2v-4h2v4z\"/>\n",
              "    </g>\n",
              "</svg>\n",
              "  </button>\n",
              "\n",
              "<style>\n",
              "  .colab-df-quickchart {\n",
              "      --bg-color: #E8F0FE;\n",
              "      --fill-color: #1967D2;\n",
              "      --hover-bg-color: #E2EBFA;\n",
              "      --hover-fill-color: #174EA6;\n",
              "      --disabled-fill-color: #AAA;\n",
              "      --disabled-bg-color: #DDD;\n",
              "  }\n",
              "\n",
              "  [theme=dark] .colab-df-quickchart {\n",
              "      --bg-color: #3B4455;\n",
              "      --fill-color: #D2E3FC;\n",
              "      --hover-bg-color: #434B5C;\n",
              "      --hover-fill-color: #FFFFFF;\n",
              "      --disabled-bg-color: #3B4455;\n",
              "      --disabled-fill-color: #666;\n",
              "  }\n",
              "\n",
              "  .colab-df-quickchart {\n",
              "    background-color: var(--bg-color);\n",
              "    border: none;\n",
              "    border-radius: 50%;\n",
              "    cursor: pointer;\n",
              "    display: none;\n",
              "    fill: var(--fill-color);\n",
              "    height: 32px;\n",
              "    padding: 0;\n",
              "    width: 32px;\n",
              "  }\n",
              "\n",
              "  .colab-df-quickchart:hover {\n",
              "    background-color: var(--hover-bg-color);\n",
              "    box-shadow: 0 1px 2px rgba(60, 64, 67, 0.3), 0 1px 3px 1px rgba(60, 64, 67, 0.15);\n",
              "    fill: var(--button-hover-fill-color);\n",
              "  }\n",
              "\n",
              "  .colab-df-quickchart-complete:disabled,\n",
              "  .colab-df-quickchart-complete:disabled:hover {\n",
              "    background-color: var(--disabled-bg-color);\n",
              "    fill: var(--disabled-fill-color);\n",
              "    box-shadow: none;\n",
              "  }\n",
              "\n",
              "  .colab-df-spinner {\n",
              "    border: 2px solid var(--fill-color);\n",
              "    border-color: transparent;\n",
              "    border-bottom-color: var(--fill-color);\n",
              "    animation:\n",
              "      spin 1s steps(1) infinite;\n",
              "  }\n",
              "\n",
              "  @keyframes spin {\n",
              "    0% {\n",
              "      border-color: transparent;\n",
              "      border-bottom-color: var(--fill-color);\n",
              "      border-left-color: var(--fill-color);\n",
              "    }\n",
              "    20% {\n",
              "      border-color: transparent;\n",
              "      border-left-color: var(--fill-color);\n",
              "      border-top-color: var(--fill-color);\n",
              "    }\n",
              "    30% {\n",
              "      border-color: transparent;\n",
              "      border-left-color: var(--fill-color);\n",
              "      border-top-color: var(--fill-color);\n",
              "      border-right-color: var(--fill-color);\n",
              "    }\n",
              "    40% {\n",
              "      border-color: transparent;\n",
              "      border-right-color: var(--fill-color);\n",
              "      border-top-color: var(--fill-color);\n",
              "    }\n",
              "    60% {\n",
              "      border-color: transparent;\n",
              "      border-right-color: var(--fill-color);\n",
              "    }\n",
              "    80% {\n",
              "      border-color: transparent;\n",
              "      border-right-color: var(--fill-color);\n",
              "      border-bottom-color: var(--fill-color);\n",
              "    }\n",
              "    90% {\n",
              "      border-color: transparent;\n",
              "      border-bottom-color: var(--fill-color);\n",
              "    }\n",
              "  }\n",
              "</style>\n",
              "\n",
              "  <script>\n",
              "    async function quickchart(key) {\n",
              "      const quickchartButtonEl =\n",
              "        document.querySelector('#' + key + ' button');\n",
              "      quickchartButtonEl.disabled = true;  // To prevent multiple clicks.\n",
              "      quickchartButtonEl.classList.add('colab-df-spinner');\n",
              "      try {\n",
              "        const charts = await google.colab.kernel.invokeFunction(\n",
              "            'suggestCharts', [key], {});\n",
              "      } catch (error) {\n",
              "        console.error('Error during call to suggestCharts:', error);\n",
              "      }\n",
              "      quickchartButtonEl.classList.remove('colab-df-spinner');\n",
              "      quickchartButtonEl.classList.add('colab-df-quickchart-complete');\n",
              "    }\n",
              "    (() => {\n",
              "      let quickchartButtonEl =\n",
              "        document.querySelector('#df-8c313507-3132-4c67-be4c-78dfac08848e button');\n",
              "      quickchartButtonEl.style.display =\n",
              "        google.colab.kernel.accessAllowed ? 'block' : 'none';\n",
              "    })();\n",
              "  </script>\n",
              "</div>\n",
              "\n",
              "    </div>\n",
              "  </div>\n"
            ],
            "application/vnd.google.colaboratory.intrinsic+json": {
              "type": "dataframe",
              "summary": "{\n  \"name\": \"display_missing_data_count(ev_data)\",\n  \"rows\": 7,\n  \"fields\": [\n    {\n      \"column\": \"value_count\",\n      \"properties\": {\n        \"dtype\": \"number\",\n        \"std\": 144,\n        \"min\": 5,\n        \"max\": 389,\n        \"num_unique_values\": 3,\n        \"samples\": [\n          389,\n          9,\n          5\n        ],\n        \"semantic_type\": \"\",\n        \"description\": \"\"\n      }\n    },\n    {\n      \"column\": \"%\",\n      \"properties\": {\n        \"dtype\": \"number\",\n        \"std\": 0.08146247734903704,\n        \"min\": 0.002811104989149135,\n        \"max\": 0.2187039681558027,\n        \"num_unique_values\": 3,\n        \"samples\": [\n          0.2187039681558027,\n          0.005059988980468442,\n          0.002811104989149135\n        ],\n        \"semantic_type\": \"\",\n        \"description\": \"\"\n      }\n    }\n  ]\n}"
            }
          },
          "metadata": {},
          "execution_count": 8
        }
      ],
      "source": [
        "display_missing_data_count(ev_data)"
      ]
    },
    {
      "cell_type": "markdown",
      "source": [
        "### Drop null fields"
      ],
      "metadata": {
        "id": "YA3N7iub7wsr"
      },
      "id": "YA3N7iub7wsr"
    },
    {
      "cell_type": "code",
      "execution_count": 9,
      "id": "9699881b-ad00-422c-a3a3-ebf86f1e6ff8",
      "metadata": {
        "id": "9699881b-ad00-422c-a3a3-ebf86f1e6ff8"
      },
      "outputs": [],
      "source": [
        "ev_data.dropna(inplace=True)"
      ]
    },
    {
      "cell_type": "markdown",
      "id": "4b6e6c2b-0f32-4b00-8030-bf13b55a9474",
      "metadata": {
        "id": "4b6e6c2b-0f32-4b00-8030-bf13b55a9474"
      },
      "source": [
        "For the task of market size of electric vehicles analysis, we can explore the following areas:\n",
        "1. **EV Adoption Over Time:** Analyze the growth of the EV population by model year.\n",
        "2. **Geographical Distribution:** Understand where EVs are most commonly registered (e.g., by county or city).\n",
        "3. **EV Types:** Breakdown of the dataset by electric vehicle type (BEV, etc.).\n",
        "4. **Make and Model Popularity:** Identify the most popular makes and models among the registered EVs.\n",
        "5. **Electric Range Analysis:** Analyze the electric range of vehicles to see how EV technology is progressing.\n",
        "6. **Estimated Growth in Market Size:** Analyze and find the estimated growth in the market size of electric vehicles.\n",
        "hicles."
      ]
    },
    {
      "cell_type": "markdown",
      "id": "e7c627a0-339f-488b-96f0-619aff8c18e7",
      "metadata": {
        "id": "e7c627a0-339f-488b-96f0-619aff8c18e7"
      },
      "source": [
        "## Insights"
      ]
    },
    {
      "cell_type": "markdown",
      "id": "b93a8018-4753-4901-9b45-28ba40de6c23",
      "metadata": {
        "id": "b93a8018-4753-4901-9b45-28ba40de6c23"
      },
      "source": [
        "### EV Adoption Over Time"
      ]
    },
    {
      "cell_type": "markdown",
      "id": "45411f42-8790-4e13-9c11-c66d2e74447f",
      "metadata": {
        "id": "45411f42-8790-4e13-9c11-c66d2e74447f"
      },
      "source": [
        "Let’s start with analyzing the EV Adoption Over Time by visualizing the number of EVs registered by model year. It will give us an insight into how the EV population has grown over the years:"
      ]
    },
    {
      "cell_type": "code",
      "execution_count": 10,
      "id": "9ad6a2d2-e719-4ffb-8bff-28418e369459",
      "metadata": {
        "colab": {
          "base_uri": "https://localhost:8080/",
          "height": 607
        },
        "id": "9ad6a2d2-e719-4ffb-8bff-28418e369459",
        "outputId": "18796aff-6ad7-4ebf-880e-39e202daa97f"
      },
      "outputs": [
        {
          "output_type": "display_data",
          "data": {
            "text/plain": [
              "<Figure size 1200x600 with 1 Axes>"
            ],
            "image/png": "[encoded data removed]"
          },
          "metadata": {}
        }
      ],
      "source": [
        "plt.figure(figsize=(12, 6))\n",
        "ev_adoption_by_year = ev_data['Model Year'].value_counts().sort_index()\n",
        "sns.barplot(x=ev_adoption_by_year.index, y=ev_adoption_by_year.values, palette=\"viridis\")\n",
        "plt.title('EV Adoption Over Time')\n",
        "plt.xlabel('Model Year')\n",
        "plt.ylabel('Number of Vehicles Registered')\n",
        "plt.xticks(rotation=45)\n",
        "plt.tight_layout()\n",
        "plt.show();"
      ]
    },
    {
      "cell_type": "markdown",
      "id": "eaa97666-7f4c-453f-9d5e-4b3a3f76d861",
      "metadata": {
        "id": "eaa97666-7f4c-453f-9d5e-4b3a3f76d861"
      },
      "source": [
        "- From the above bar chart, it’s clear that EV adoption has been increasing over time, especially noting a significant upward trend starting around 2016.\n",
        "- The number of vehicles registered grows modestly up until that point and then begins to rise more rapidly from 2017 onwards.\n",
        "- The year 2023 shows a particularly sharp increase in the number of registered EVs, with the bar for 2023 being the highest on the graph, indicating a peak in EV adoption."
      ]
    },
    {
      "cell_type": "markdown",
      "id": "277145c9-cacb-414c-9678-67157599bfa7",
      "metadata": {
        "id": "277145c9-cacb-414c-9678-67157599bfa7"
      },
      "source": [
        "### Top 3 counties based on EV registrations"
      ]
    },
    {
      "cell_type": "markdown",
      "id": "c4d79eed-a598-4138-8e85-06f550d8a6a5",
      "metadata": {
        "id": "c4d79eed-a598-4138-8e85-06f550d8a6a5"
      },
      "source": [
        "Now, let’s start by selecting the top 3 counties based on EV registrations and then analyze the distribution of EVs within the cities of those counties:"
      ]
    },
    {
      "cell_type": "code",
      "execution_count": 12,
      "id": "20d7e7eb-cece-4bea-a09d-8cc4272f034c",
      "metadata": {
        "colab": {
          "base_uri": "https://localhost:8080/",
          "height": 507
        },
        "id": "20d7e7eb-cece-4bea-a09d-8cc4272f034c",
        "outputId": "a876ad7f-2b82-4959-919e-e393306bb7a9"
      },
      "outputs": [
        {
          "output_type": "display_data",
          "data": {
            "text/plain": [
              "<Figure size 1200x500 with 1 Axes>"
            ],
            "image/png": "[encoded data removed]"
          },
          "metadata": {}
        }
      ],
      "source": [
        "# geographical distribution at county level\n",
        "ev_county_distribution = ev_data['County'].value_counts()\n",
        "top_counties = ev_county_distribution.head(3).index\n",
        "\n",
        "# filtering the dataset for these top counties\n",
        "top_counties_data = ev_data[ev_data['County'].isin(top_counties)]\n",
        "\n",
        "# analyzing the distribution of EVs within the cities of these top counties\n",
        "ev_city_distribution_top_counties = top_counties_data.groupby(['County', 'City']).size().sort_values(ascending=False).reset_index(name='Number of Vehicles')\n",
        "\n",
        "# visualize the top 10 cities across these counties\n",
        "top_cities = ev_city_distribution_top_counties.head(10)\n",
        "\n",
        "plt.figure(figsize=(12, 5))\n",
        "sns.barplot(x='Number of Vehicles', y='City', hue='County', data=top_cities, palette=\"magma\")\n",
        "plt.title('Top Cities in Top Counties by EV Registrations')\n",
        "plt.xlabel('Number of Vehicles Registered')\n",
        "plt.ylabel('City')\n",
        "plt.legend(title='County')\n",
        "plt.legend(bbox_to_anchor=(1.05, 1.0), loc='upper left')\n",
        "plt.tight_layout()\n",
        "plt.show()"
      ]
    },
    {
      "cell_type": "markdown",
      "id": "546dc4b9-7f4f-436a-b168-a000e0d49161",
      "metadata": {
        "id": "546dc4b9-7f4f-436a-b168-a000e0d49161"
      },
      "source": [
        "- The above graph compares the number of electric vehicles registered in various cities within three counties: King, Snohomish, and Pierce.\n",
        "- The horizontal bars represent cities, and their length corresponds to the number of vehicles registered, colour-coded by county.\n",
        "- Here are the key findings from the above graph:\n",
        "  1. Seattle, which is in King County, has the highest number of EV registrations by a significant margin, far outpacing the other cities listed.\n",
        "  2. Bellevue and Redmond, also in King County, follow Seattle with the next highest registrations, though these are considerably less than Seattle’s.\n",
        "  3. Cities in Snohomish County, such as Kirkland and Sammamish, show moderate EV registrations.\n",
        "  4. Tacoma and Tukwila, representing Pierce County, have the fewest EV registrations among the cities listed, with Tacoma slightly ahead of Tukwila.\n",
        "  5. The majority of cities shown are from King County, which seems to dominate EV registrations among the three counties.\n",
        "  6. Overall, the graph indicates that EV adoption is not uniform across the cities and is more concentrated in certain areas, particularly in King County."
      ]
    },
    {
      "cell_type": "markdown",
      "id": "df3620a5-4458-4b3d-a2c6-fe94d88a4891",
      "metadata": {
        "id": "df3620a5-4458-4b3d-a2c6-fe94d88a4891"
      },
      "source": [
        "### Types of Electric Vehicles"
      ]
    },
    {
      "cell_type": "markdown",
      "id": "2969f335-cdd4-4036-b621-4b2db8188588",
      "metadata": {
        "id": "2969f335-cdd4-4036-b621-4b2db8188588"
      },
      "source": [
        "Next, let’s explore the types of electric vehicles represented in this dataset. Understanding the breakdown between different EV types, such as Battery Electric Vehicles (BEV) and Plug-in Hybrid Electric Vehicles (PHEV), can provide insights into consumer preferences and the adoption patterns of purely electric vs. hybrid electric solutions. So, let’s visualize the distribution of electric vehicle types to see which categories are most popular among the registered vehicles:"
      ]
    },
    {
      "cell_type": "code",
      "execution_count": null,
      "id": "bd3fdfd3-27fb-480d-97f9-54162b1c3d5c",
      "metadata": {
        "id": "bd3fdfd3-27fb-480d-97f9-54162b1c3d5c"
      },
      "outputs": [],
      "source": [
        "# analyzing the distribution of electric vehicle Types\n",
        "ev_type_distribution = ev_data['Electric Vehicle Type'].value_counts()\n",
        "\n",
        "plt.figure(figsize=(10, 6))\n",
        "sns.barplot(x=ev_type_distribution.values, y=ev_type_distribution.index, palette=\"rocket\")\n",
        "plt.title('Distribution of Electric Vehicle Types')\n",
        "plt.xlabel('Number of Vehicles Registered')\n",
        "plt.ylabel('Electric Vehicle Type')\n",
        "plt.tight_layout()\n",
        "plt.show()"
      ]
    },
    {
      "cell_type": "markdown",
      "id": "db01374e-cea6-4940-80d7-9faabee98867",
      "metadata": {
        "id": "db01374e-cea6-4940-80d7-9faabee98867"
      },
      "source": [
        "The above graph shows that BEVs are more popular or preferred over PHEVs among the electric vehicles registered in the United States.\n",
        "\n",
        "Let’s now focus on the popularity of electric vehicle manufacturers and models among the registered vehicles. This analysis will help us identify which manufacturers and specific models dominate the EV market, potentially indicating consumer preferences, brand loyalty, and the success of various manufacturers’ strategies in promoting electric mobility."
      ]
    },
    {
      "cell_type": "markdown",
      "id": "01a92405-80be-4f04-80a0-3700679e66b2",
      "metadata": {
        "id": "01a92405-80be-4f04-80a0-3700679e66b2"
      },
      "source": [
        "### Popularity of EVs"
      ]
    },
    {
      "cell_type": "markdown",
      "id": "2a648089-d577-4dd8-8768-2a66460b11f0",
      "metadata": {
        "id": "2a648089-d577-4dd8-8768-2a66460b11f0"
      },
      "source": [
        "So, let’s have a look at the most popular manufacturers and then drill down into the most popular models within those manufacturers:"
      ]
    },
    {
      "cell_type": "code",
      "execution_count": null,
      "id": "014b7d89-35fb-40c3-9402-c1efba839be0",
      "metadata": {
        "id": "014b7d89-35fb-40c3-9402-c1efba839be0"
      },
      "outputs": [],
      "source": [
        "# analyzing the popularity of EV manufacturers\n",
        "ev_make_distribution = ev_data['Make'].value_counts().head(10)  # Limiting to top 10 for clarity\n",
        "\n",
        "plt.figure(figsize=(12, 6))\n",
        "sns.barplot(x=ev_make_distribution.values, y=ev_make_distribution.index, palette=\"cubehelix\")\n",
        "plt.title('Top 10 Popular EV Makes')\n",
        "plt.xlabel('Number of Vehicles Registered')\n",
        "plt.ylabel('Make')\n",
        "plt.tight_layout()\n",
        "plt.show()"
      ]
    },
    {
      "cell_type": "markdown",
      "id": "2d46af8b-197e-4e00-b6ca-e8484fee4784",
      "metadata": {
        "id": "2d46af8b-197e-4e00-b6ca-e8484fee4784"
      },
      "source": [
        "The above chart shows that:\n",
        "\n",
        "- TESLA leads by a substantial margin with the highest number of vehicles registered.\n",
        "- NISSAN is the second most popular manufacturer, followed by CHEVROLET, though both have significantly fewer registrations than TESLA.\n",
        "- FORD, BMW, KIA, TOYOTA, VOLKSWAGEN, JEEP, and HYUNDAI follow in decreasing order of the number of registered vehicles.\n",
        "\n",
        "Next, let’s drill down into the most popular models within these top manufacturers to get a more detailed understanding of consumer preferences at the model level:"
      ]
    },
    {
      "cell_type": "markdown",
      "id": "931d9ee0-844c-49e0-9994-ea6eefce3059",
      "metadata": {
        "id": "931d9ee0-844c-49e0-9994-ea6eefce3059"
      },
      "source": [
        "### Top Models in the Top 3 Makes"
      ]
    },
    {
      "cell_type": "code",
      "execution_count": 1,
      "id": "deed0896-ac33-4f5a-8fa7-1410e98b7805",
      "metadata": {
        "colab": {
          "base_uri": "https://localhost:8080/",
          "height": 211
        },
        "id": "deed0896-ac33-4f5a-8fa7-1410e98b7805",
        "outputId": "40c5362a-5be3-45cc-89f6-10de3207c567"
      },
      "outputs": [
        {
          "output_type": "error",
          "ename": "NameError",
          "evalue": "name 'ev_make_distribution' is not defined",
          "traceback": [
            "\u001b[0;31m---------------------------------------------------------------------------\u001b[0m",
            "\u001b[0;31mNameError\u001b[0m                                 Traceback (most recent call last)",
            "\u001b[0;32m<ipython-input-1-9df41faf458f>\u001b[0m in \u001b[0;36m<cell line: 2>\u001b[0;34m()\u001b[0m\n\u001b[1;32m      1\u001b[0m \u001b[0;31m# selecting the top 3 manufacturers based on the number of vehicles registered\u001b[0m\u001b[0;34m\u001b[0m\u001b[0;34m\u001b[0m\u001b[0m\n\u001b[0;32m----> 2\u001b[0;31m \u001b[0mtop_3_makes\u001b[0m \u001b[0;34m=\u001b[0m \u001b[0mev_make_distribution\u001b[0m\u001b[0;34m.\u001b[0m\u001b[0mhead\u001b[0m\u001b[0;34m(\u001b[0m\u001b[0;36m3\u001b[0m\u001b[0;34m)\u001b[0m\u001b[0;34m.\u001b[0m\u001b[0mindex\u001b[0m\u001b[0;34m\u001b[0m\u001b[0;34m\u001b[0m\u001b[0m\n\u001b[0m\u001b[1;32m      3\u001b[0m \u001b[0;34m\u001b[0m\u001b[0m\n\u001b[1;32m      4\u001b[0m \u001b[0;31m# filtering the dataset for these top manufacturers\u001b[0m\u001b[0;34m\u001b[0m\u001b[0;34m\u001b[0m\u001b[0m\n\u001b[1;32m      5\u001b[0m \u001b[0mtop_makes_data\u001b[0m \u001b[0;34m=\u001b[0m \u001b[0mev_data\u001b[0m\u001b[0;34m[\u001b[0m\u001b[0mev_data\u001b[0m\u001b[0;34m[\u001b[0m\u001b[0;34m'Make'\u001b[0m\u001b[0;34m]\u001b[0m\u001b[0;34m.\u001b[0m\u001b[0misin\u001b[0m\u001b[0;34m(\u001b[0m\u001b[0mtop_3_makes\u001b[0m\u001b[0;34m)\u001b[0m\u001b[0;34m]\u001b[0m\u001b[0;34m\u001b[0m\u001b[0;34m\u001b[0m\u001b[0m\n",
            "\u001b[0;31mNameError\u001b[0m: name 'ev_make_distribution' is not defined"
          ]
        }
      ],
      "source": [
        "# selecting the top 3 manufacturers based on the number of vehicles registered\n",
        "top_3_makes = ev_make_distribution.head(3).index\n",
        "\n",
        "# filtering the dataset for these top manufacturers\n",
        "top_makes_data = ev_data[ev_data['Make'].isin(top_3_makes)]\n",
        "\n",
        "# analyzing the popularity of EV models within these top manufacturers\n",
        "ev_model_distribution_top_makes = top_makes_data.groupby(['Make', 'Model']).size().sort_values(ascending=False).reset_index(name='Number of Vehicles')\n",
        "\n",
        "# visualizing the top 10 models across these manufacturers for clarity\n",
        "top_models = ev_model_distribution_top_makes.head(10)\n",
        "\n",
        "plt.figure(figsize=(12, 8))\n",
        "sns.barplot(x='Number of Vehicles', y='Model', hue='Make', data=top_models, palette=\"viridis\")\n",
        "plt.title('Top Models in Top 3 Makes by EV Registrations')\n",
        "plt.xlabel('Number of Vehicles Registered')\n",
        "plt.ylabel('Model')\n",
        "plt.legend(title='Make', loc='center right')\n",
        "plt.tight_layout()\n",
        "plt.show()"
      ]
    },
    {
      "cell_type": "markdown",
      "id": "3ef076f1-a807-4279-837a-665c07b36534",
      "metadata": {
        "id": "3ef076f1-a807-4279-837a-665c07b36534"
      },
      "source": [
        "The above graph shows the distribution of electric vehicle registrations among different models from the top three manufacturers: TESLA, NISSAN, and CHEVROLET. Here are the findings:\n",
        "\n",
        "- TESLA’s MODEL Y and MODEL 3 are the most registered vehicles, with MODEL Y having the highest number of registrations.\n",
        "- NISSAN’s LEAF is the third most registered model and the most registered non-TESLA vehicle.\n",
        "- TESLA’s MODEL S and MODEL X also have a significant number of registrations.\n",
        "- CHEVROLET’s BOLT EV and VOLT are the next in the ranking with considerable registrations, followed by BOLT EUV.\n",
        "- NISSAN’s ARIYA and CHEVROLET’s SPARK have the least number of registrations among the models shown.\n",
        "\n",
        "Next, we’ll explore the electric range of vehicles, which is a critical factor for analyzing the market size of electric vehicles. The electric range indicates how far an EV can travel on a single charge, and advancements in battery technology have been steadily increasing these ranges over the years. So, let’s look at the distribution of electric ranges in the dataset and identify any notable trends, such as improvements over time or variations between different vehicle types or manufacturers:"
      ]
    },
    {
      "cell_type": "markdown",
      "id": "d6eb6531-4b6f-47fc-8092-7549a2395755",
      "metadata": {
        "id": "d6eb6531-4b6f-47fc-8092-7549a2395755"
      },
      "source": [
        "### EV Ranges"
      ]
    },
    {
      "cell_type": "code",
      "execution_count": 58,
      "id": "303084dc-3732-4743-99ed-a7c5b0496586",
      "metadata": {
        "colab": {
          "base_uri": "https://localhost:8080/",
          "height": 564
        },
        "id": "303084dc-3732-4743-99ed-a7c5b0496586",
        "outputId": "60bd533c-2f26-4420-a93e-b2b4498e6994"
      },
      "outputs": [
        {
          "output_type": "display_data",
          "data": {
            "text/plain": [
              "<Figure size 1200x600 with 1 Axes>"
            ],
            "image/png": "[encoded data removed]"
          },
          "metadata": {}
        }
      ],
      "source": [
        "# analyzing the distribution of electric range\n",
        "plt.figure(figsize=(12, 6))\n",
        "sns.histplot(ev_data['Electric Range'], bins=30, kde=True, color='royalblue')\n",
        "plt.title('Distribution of Electric Vehicle Ranges')\n",
        "plt.xlabel('Electric Range (miles)')\n",
        "plt.ylabel('Number of Vehicles')\n",
        "plt.axvline(ev_data['Electric Range'].mean(), color='red', linestyle='--', label=f'Mean Range: {ev_data[\"Electric Range\"].mean():.2f} miles')\n",
        "plt.legend()\n",
        "plt.show()"
      ]
    },
    {
      "cell_type": "markdown",
      "id": "9d64f6d6-d82b-4192-88bb-5f199f799fb0",
      "metadata": {
        "id": "9d64f6d6-d82b-4192-88bb-5f199f799fb0"
      },
      "source": [
        "The above graph shows the mean electric range. Key observations from the graph include:\n",
        "\n",
        "- There is a high frequency of vehicles with a low electric range, with a significant peak occurring just before 50 miles.\n",
        "-\n",
        "The distribution is skewed to the right, with a long tail extending towards higher ranges, although the number of vehicles with higher ranges is much less frequent\n",
        "-\n",
        "The mean electric range for this set of vehicles is marked at approximately 58.84 miles, which is relatively low compared to the highest ranges shown in the grap\n",
        "- .\n",
        "Despite the presence of electric vehicles with ranges that extend up to around 350 miles, the majority of the vehicles have a range below the mea\n",
        "n.\n",
        "It suggests that while there are EVs available with high electric ranges, the average range is skewed lower due to a substantial number of vehicles with shorter ranges.\n",
        "\n",
        "Now, let’s delve into the trend of electric ranges over model years, which can provide insights into how advancements in battery technology and vehicle design have influenced the electric range capabilities of electric vehicles over time. A positive trend in this analysis would indicate continuous improvements, offering consumers EVs with longer driving ranges and potentially addressing one of the major concerns regarding the EV market (range anxiety):"
      ]
    },
    {
      "cell_type": "markdown",
      "id": "d597fd18-a61f-40be-a99c-e167c972aeb9",
      "metadata": {
        "id": "d597fd18-a61f-40be-a99c-e167c972aeb9"
      },
      "source": [
        "### Range vs Model Year"
      ]
    },
    {
      "cell_type": "code",
      "execution_count": null,
      "id": "3b3be9c5-7b12-4a46-a01c-823ea592b826",
      "metadata": {
        "id": "3b3be9c5-7b12-4a46-a01c-823ea592b826",
        "outputId": "2250dff0-ce66-456a-841d-82ddc291ffb8"
      },
      "outputs": [
        {
          "data": {
            "image/png": "[encoded data removed]",
            "text/plain": [
              "<Figure size 1200x600 with 1 Axes>"
            ]
          },
          "metadata": {},
          "output_type": "display_data"
        }
      ],
      "source": [
        "# calculating the average electric range by model year\n",
        "average_range_by_year = ev_data.groupby('Model Year')['Electric Range'].mean().reset_index()\n",
        "\n",
        "plt.figure(figsize=(12, 6))\n",
        "sns.lineplot(x='Model Year', y='Electric Range', data=average_range_by_year, marker='o', color='green')\n",
        "plt.title('Average Electric Range by Model Year')\n",
        "plt.xlabel('Model Year')\n",
        "plt.ylabel('Average Electric Range (miles)')\n",
        "plt.grid(True)\n",
        "plt.show()"
      ]
    },
    {
      "cell_type": "markdown",
      "id": "f07cedf4-31fa-4bee-b72e-4701de25a564",
      "metadata": {
        "id": "f07cedf4-31fa-4bee-b72e-4701de25a564"
      },
      "source": [
        "The above graph shows the progression of the average electric range of vehicles from around the year 2000 to 2024. Key findings from the graph:\n",
        "\n",
        "- There is a general upward trend in the average electric range of EVs over the years, indicating improvements in technology and battery efficiency.\n",
        "- There is a noticeable peak around the year 2020 when the average range reaches its highest point.\n",
        "- Following 2020, there’s a significant drop in the average range, which could indicate that data for the following years might be incomplete or reflect the introduction of several lower-range models.\n",
        "- After the sharp decline, there is a slight recovery in the average range in the most recent year shown on the graph.\n",
        "\n",
        "The data suggest that while there have been fluctuations, the overall trend over the last two decades has been toward increasing the electric range of EVs.\n",
        "\n",
        "Next, let’s explore how electric ranges vary among the top manufacturers and models. This analysis can reveal how different manufacturers are addressing the crucial aspect of electric range and highlight which models stand out for their superior range capabilities:"
      ]
    },
    {
      "cell_type": "markdown",
      "id": "c2a9ad04-fcc9-4424-a220-98a8cbe85ca4",
      "metadata": {
        "id": "c2a9ad04-fcc9-4424-a220-98a8cbe85ca4"
      },
      "source": [
        "### EV Miles Range vs Manufacturers' Model"
      ]
    },
    {
      "cell_type": "code",
      "execution_count": null,
      "id": "f2630412-16d5-43f7-a01a-50e3740fea17",
      "metadata": {
        "id": "f2630412-16d5-43f7-a01a-50e3740fea17",
        "outputId": "2fa518c5-a7fb-4f82-e069-019e12f1bffa"
      },
      "outputs": [
        {
          "data": {
            "image/png": "[encoded data removed]",
            "text/plain": [
              "<Figure size 1200x800 with 1 Axes>"
            ]
          },
          "metadata": {},
          "output_type": "display_data"
        }
      ],
      "source": [
        "average_range_by_model = top_makes_data.groupby(['Make', 'Model'])['Electric Range'].mean().sort_values(ascending=False).reset_index()\n",
        "\n",
        "# the top 10 models with the highest average electric range\n",
        "top_range_models = average_range_by_model.head(10)\n",
        "\n",
        "plt.figure(figsize=(12, 8))\n",
        "barplot = sns.barplot(x='Electric Range', y='Model', hue='Make', data=top_range_models, palette=\"cool\")\n",
        "plt.title('Top 10 Models by Average Electric Range in Top Makes')\n",
        "plt.xlabel('Average Electric Range (miles)')\n",
        "plt.ylabel('Model')\n",
        "plt.legend(title='Make', loc='center right')\n",
        "plt.show()"
      ]
    },
    {
      "cell_type": "markdown",
      "id": "67d9e931-6716-47ab-b42b-1687bc53b9cd",
      "metadata": {
        "id": "67d9e931-6716-47ab-b42b-1687bc53b9cd"
      },
      "source": [
        "- The TESLA ROADSTER has the highest average electric range among the models listed.\n",
        "- TESLA’s models (ROADSTER, MODEL S, MODEL X, and MODEL 3) occupy the majority of the top positions, indicating that on average, TESLA’s vehicles have higher electric ranges.\n",
        "- The CHEVROLET BOLT EV is an outlier among the CHEVROLET models, having a substantially higher range than the VOLT and S-10 PICKUP from the same maker.\n",
        "- NISSAN’s LEAF and CHEVROLET’s SPARK are in the lower half of the chart, suggesting more modest average ranges."
      ]
    },
    {
      "cell_type": "markdown",
      "id": "cb1c1970-f3b4-4f06-b2b3-15ef43b820e2",
      "metadata": {
        "id": "cb1c1970-f3b4-4f06-b2b3-15ef43b820e2"
      },
      "source": [
        "### Estimated Market Size Analysis of Electric Vehicles in the United States"
      ]
    },
    {
      "cell_type": "markdown",
      "id": "e7be723a-9478-4851-a152-2f7b8187da05",
      "metadata": {
        "id": "e7be723a-9478-4851-a152-2f7b8187da05"
      },
      "source": [
        "Now, let’s move forward towards finding the estimated market size of electric vehicles in the United States. I’ll first count the number of EVs registered every year:"
      ]
    },
    {
      "cell_type": "code",
      "execution_count": null,
      "id": "f6b9def2-a15b-493c-b708-b0ea1866f6f6",
      "metadata": {
        "id": "f6b9def2-a15b-493c-b708-b0ea1866f6f6",
        "outputId": "f4f7dc40-4419-4ab1-8954-cce3a108fb12"
      },
      "outputs": [
        {
          "data": {
            "text/plain": [
              "Model Year\n",
              "1997        1\n",
              "1998        1\n",
              "1999        5\n",
              "2000        7\n",
              "2002        2\n",
              "2003        1\n",
              "2008       20\n",
              "2010       23\n",
              "2011      775\n",
              "2012     1618\n",
              "2013     4409\n",
              "2014     3509\n",
              "2015     4844\n",
              "2016     5483\n",
              "2017     8562\n",
              "2018    14323\n",
              "2019    10940\n",
              "2020    11768\n",
              "2021    19132\n",
              "2022    27776\n",
              "2023    57587\n",
              "2024     7080\n",
              "Name: count, dtype: int64"
            ]
          },
          "execution_count": 24,
          "metadata": {},
          "output_type": "execute_result"
        }
      ],
      "source": [
        "# calculate the number of EVs registered each year\n",
        "ev_registration_counts = ev_data['Model Year'].value_counts().sort_index()\n",
        "ev_registration_counts"
      ]
    },
    {
      "cell_type": "markdown",
      "id": "5c6c7ef7-747f-4724-b3c5-bf8e13a1a7c0",
      "metadata": {
        "id": "5c6c7ef7-747f-4724-b3c5-bf8e13a1a7c0"
      },
      "source": [
        "The dataset provides the number of electric vehicles registered each year from 1997 through 2024. However, the data for 2024 is incomplete as it only contains the data till March. Here’s a summary of EV registrations for recent years:\n",
        "\n",
        "- In 2021, there were 19,063 EVs registered.\n",
        "- In 2022, the number increased to 27,708 EVs.\n",
        "- In 2023, a significant jump to 57,519 EVs was observed.\n",
        "- For 2024, currently, 7,072 EVs are registered, which suggests partial data.\n",
        "\n",
        "To forecast the total number of EVs expected to be registered in 2024, we can use a growth rate based approach from previous complete years.\n",
        "\n",
        "We’ll calculate the Compound Annual Growth Rate (CAGR) between a recent year with complete data (2023) and an earlier year to project the 2024 figures. Additionally, using this growth rate, we can estimate the market size for the next five years. Let’s proceed with these calculations:"
      ]
    },
    {
      "cell_type": "code",
      "execution_count": null,
      "id": "bad94725-512c-4d86-b68f-ceabe662adff",
      "metadata": {
        "id": "bad94725-512c-4d86-b68f-ceabe662adff",
        "outputId": "0bd4301f-8a49-4efc-a86a-7c839af95a7c"
      },
      "outputs": [
        {
          "data": {
            "text/plain": [
              "{2024: 79092.26358070358,\n",
              " 2025: 119565.00850312428,\n",
              " 2026: 180748.2882793602,\n",
              " 2027: 273240.0066284026,\n",
              " 2028: 413061.179903938,\n",
              " 2029: 624431.02841697}"
            ]
          },
          "execution_count": 26,
          "metadata": {},
          "output_type": "execute_result"
        }
      ],
      "source": [
        "from scipy.optimize import curve_fit\n",
        "import numpy as np\n",
        "\n",
        "# filter the dataset to include years with complete data, assuming 2023 is the last complete year\n",
        "filtered_years = ev_registration_counts[ev_registration_counts.index <= 2023]\n",
        "\n",
        "# define a function for exponential growth to fit the data\n",
        "def exp_growth(x, a, b):\n",
        "    return a * np.exp(b * x)\n",
        "\n",
        "# prepare the data for curve fitting\n",
        "x_data = filtered_years.index - filtered_years.index.min()\n",
        "y_data = filtered_years.values\n",
        "\n",
        "# fit the data to the exponential growth function\n",
        "params, covariance = curve_fit(exp_growth, x_data, y_data)\n",
        "\n",
        "# use the fitted function to forecast the number of EVs for 2024 and the next five years\n",
        "forecast_years = np.arange(2024, 2024 + 6) - filtered_years.index.min()\n",
        "forecasted_values = exp_growth(forecast_years, *params)\n",
        "\n",
        "# create a dictionary to display the forecasted values for easier interpretation\n",
        "forecasted_evs = dict(zip(forecast_years + filtered_years.index.min(), forecasted_values))\n",
        "\n",
        "forecasted_evs"
      ]
    },
    {
      "cell_type": "markdown",
      "id": "cbeaca32-392c-42af-a546-c25c72dd737a",
      "metadata": {
        "id": "cbeaca32-392c-42af-a546-c25c72dd737a"
      },
      "source": [
        "Now, let’s plot the estimated market size data:"
      ]
    },
    {
      "cell_type": "code",
      "execution_count": null,
      "id": "df87850d-1d4f-43b8-ad37-bff6cb9be60a",
      "metadata": {
        "id": "df87850d-1d4f-43b8-ad37-bff6cb9be60a",
        "outputId": "7f58fc6f-2100-499d-dcfc-09072c9cde20"
      },
      "outputs": [
        {
          "data": {
            "image/png": "[encoded data removed]",
            "text/plain": [
              "<Figure size 1200x800 with 1 Axes>"
            ]
          },
          "metadata": {},
          "output_type": "display_data"
        }
      ],
      "source": [
        "# prepare data for plotting\n",
        "years = np.arange(filtered_years.index.min(), 2029 + 1)\n",
        "actual_years = filtered_years.index\n",
        "forecast_years_full = np.arange(2024, 2029 + 1)\n",
        "\n",
        "# actual and forecasted values\n",
        "actual_values = filtered_years.values\n",
        "forecasted_values_full = [forecasted_evs[year] for year in forecast_years_full]\n",
        "\n",
        "plt.figure(figsize=(12, 8))\n",
        "plt.plot(actual_years, actual_values, 'bo-', label='Actual Registrations')\n",
        "plt.plot(forecast_years_full, forecasted_values_full, 'ro--', label='Forecasted Registrations')\n",
        "\n",
        "plt.title('Current & Estimated EV Market')\n",
        "plt.xlabel('Year')\n",
        "plt.ylabel('Number of EV Registrations')\n",
        "plt.legend()\n",
        "plt.grid(True)\n",
        "\n",
        "plt.show()"
      ]
    },
    {
      "cell_type": "markdown",
      "id": "c26a472f-1eef-49db-8ffa-9e79965b1cf3",
      "metadata": {
        "id": "c26a472f-1eef-49db-8ffa-9e79965b1cf3"
      },
      "source": [
        "From the above graph, we can see:\n",
        "\n",
        "The number of actual EV registrations remained relatively low and stable until around 2010, after which there was a consistent and steep upward trend, suggesting a significant increase in EV adoption.\n",
        "The forecasted EV registrations predict an even more dramatic increase in the near future, with the number of registrations expected to rise sharply in the coming years.\n",
        "Given the growing trend in actual EV registrations and the projected acceleration as per the forecast data, we can conclude that the EV market size is expected to expand considerably. The steep increase in forecasted registrations suggests that consumer adoption of EVs is on the rise, and this trend is likely to continue. Overall, the data point towards a promising future for the EV industry, indicating a significant shift in consumer preferences and a potential increase in related investment and business opportunities."
      ]
    },
    {
      "cell_type": "markdown",
      "id": "c18ebf24-1bd9-4755-8d97-e81cd99da2fb",
      "metadata": {
        "id": "c18ebf24-1bd9-4755-8d97-e81cd99da2fb"
      },
      "source": [
        "## Summary"
      ]
    },
    {
      "cell_type": "markdown",
      "id": "bfe158f7-b900-4559-a5fe-c6efa1e9528e",
      "metadata": {
        "id": "bfe158f7-b900-4559-a5fe-c6efa1e9528e"
      },
      "source": [
        "So, market size analysis is a crucial aspect of market research that determines the potential sales volume within a given market. It helps businesses understand the magnitude of demand, assess market saturation levels, and identify growth opportunities. From our market size analysis of electric vehicles, we found a promising future for the EV industry, indicating a significant shift in consumer preferences and a potential increase in related investment and business opportunities."
      ]
    }
  ],
  "metadata": {
    "kernelspec": {
      "display_name": "Python 3 (ipykernel)",
      "language": "python",
      "name": "python3"
    },
    "language_info": {
      "codemirror_mode": {
        "name": "ipython",
        "version": 3
      },
      "file_extension": ".py",
      "mimetype": "text/x-python",
      "name": "python",
      "nbconvert_exporter": "python",
      "pygments_lexer": "ipython3",
      "version": "3.11.7"
    },
    "colab": {
      "provenance": [],
      "toc_visible": true,
      "include_colab_link": true
    }
  },
  "nbformat": 4,
  "nbformat_minor": 5
}