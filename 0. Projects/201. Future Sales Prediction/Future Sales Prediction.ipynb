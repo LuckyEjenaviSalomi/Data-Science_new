{
 "cells": [
  {
   "cell_type": "markdown",
   "id": "5c10dbf2-dfa0-4f0c-b008-d164a55079db",
   "metadata": {},
   "source": [
    "# Future Sales Prediction"
   ]
  },
  {
   "cell_type": "markdown",
   "id": "fbbf09e5-6dc2-41dd-9eab-067e7cf14388",
   "metadata": {},
   "source": [
    "## Context"
   ]
  },
  {
   "cell_type": "markdown",
   "id": "d5e3c7ff-21e5-4b8a-ad67-f8454672e807",
   "metadata": {},
   "source": [
    "The dataset given here contains the data about the sales of the product. The dataset is about the advertising cost incurred by the business on various advertising platforms."
   ]
  },
  {
   "cell_type": "markdown",
   "id": "f081f5ce-6add-4602-a958-396afaff1305",
   "metadata": {},
   "source": [
    "## Data Dictionary"
   ]
  },
  {
   "cell_type": "markdown",
   "id": "0c5174f2-723a-4673-a04c-10fdfe4033a4",
   "metadata": {},
   "source": [
    "Below is the description of all the columns in the dataset:\n",
    "<ol>\n",
    "    <li>\n",
    "        <strong>TV:</strong> Advertising cost spent in dollars for advertising on TV;\n",
    "    </li>\n",
    "    <li>\n",
    "        <strong>Radio:</strong>  Advertising cost spent in dollars for advertising on Radio;\n",
    "    </li>\n",
    "    <li>\n",
    "        <strong>Newspaper:</strong> Advertising cost spent in dollars for advertising on Newspaper;\n",
    "    </li>\n",
    "    <li>\n",
    "        <strong>Sales:</strong> Number of units sold\n",
    "    </li>\n",
    "</ol>\n",
    "\n",
    "So, in the above dataset, the sales of the product depend on the advertisement cost of the product. I hope you now have understood everything about this dataset. Now in the section below, I will take you through the task of future sales prediction with machine learning using Python.sold;"
   ]
  },
  {
   "cell_type": "markdown",
   "id": "3f8e2fcd-8047-4515-9ab5-38f963c071a8",
   "metadata": {},
   "source": []
  },
  {
   "cell_type": "code",
   "execution_count": null,
   "id": "1eaaadc4-51ba-46d9-879e-6bf1dc824478",
   "metadata": {},
   "outputs": [],
   "source": []
  }
 ],
 "metadata": {
  "kernelspec": {
   "display_name": "Python 3 (ipykernel)",
   "language": "python",
   "name": "python3"
  },
  "language_info": {
   "codemirror_mode": {
    "name": "ipython",
    "version": 3
   },
   "file_extension": ".py",
   "mimetype": "text/x-python",
   "name": "python",
   "nbconvert_exporter": "python",
   "pygments_lexer": "ipython3",
   "version": "3.11.7"
  }
 },
 "nbformat": 4,
 "nbformat_minor": 5
}
